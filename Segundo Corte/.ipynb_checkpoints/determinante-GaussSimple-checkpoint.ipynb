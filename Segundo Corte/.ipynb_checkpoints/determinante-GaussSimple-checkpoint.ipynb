{
 "cells": [
  {
   "cell_type": "code",
   "execution_count": null,
   "metadata": {
    "collapsed": true
   },
   "outputs": [],
   "source": [
    "matriz =[[3,-0.1,-0.2],[0.1,7,-0.3],[0.3,-0.2,10]]\n",
    "b=[7.85,-19.3,71.4]\n",
    "x=[0,0,0]\n",
    "n=3\n",
    "\n",
    "for k in range (n-1):\n",
    "    for i in range (k+1,n):\n",
    "        factor=matriz[i][k]/matriz[k][k]        \n",
    "        for j in range (k+1,n):\n",
    "            matriz[i][j]=matriz[i][j]-(factor*matriz[k][j])\n",
    "        b[i]=b[i]-(factor*b[k])\n",
    "        \n",
    "for h in range (0,3):\n",
    "    print (matriz[h][0],matriz[h][1],matriz[h][2],b[h])\n",
    "\n",
    "for i in range ()\n",
    "    \n",
    "    "
   ]
  }
 ],
 "metadata": {
  "kernelspec": {
   "display_name": "Python 3",
   "language": "python",
   "name": "python3"
  },
  "language_info": {
   "codemirror_mode": {
    "name": "ipython",
    "version": 3
   },
   "file_extension": ".py",
   "mimetype": "text/x-python",
   "name": "python",
   "nbconvert_exporter": "python",
   "pygments_lexer": "ipython3",
   "version": "3.5.1"
  }
 },
 "nbformat": 4,
 "nbformat_minor": 0
}
