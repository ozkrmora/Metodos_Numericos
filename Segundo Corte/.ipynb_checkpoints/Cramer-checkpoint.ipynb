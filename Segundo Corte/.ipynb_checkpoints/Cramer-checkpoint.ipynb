{
 "cells": [
  {
   "cell_type": "code",
   "execution_count": null,
   "metadata": {
    "collapsed": false
   },
   "outputs": [
    {
     "name": "stdout",
     "output_type": "stream",
     "text": [
      "introduzca los coeficientes de las variables correspondientes a cada ecuacion\n"
     ]
    }
   ],
   "source": [
    "matriz =[[0,0,0],[0,0,0],[0,0,0]]\n",
    "matriz2, matriz3, matriz4 =[[0,0,0],[0,0,0],[0,0,0]],[[0,0,0],[0,0,0],[0,0,0]],[[0,0,0],[0,0,0],[0,0,0]]\n",
    "mresp=[0,0,0]\n",
    "D,D2,D3,D4=0,0,0,0\n",
    "\n",
    "print ('introduzca los coeficientes de las variables correspondientes a cada ecuacion')\n",
    "\n",
    "for i in range (0,3):\n",
    "    for j in range (0,4):\n",
    "        if j<3:\n",
    "            ab=float(input(\"==>\"))\n",
    "            matriz[i][j]=ab\n",
    "            matriz2[i][j]=ab\n",
    "            matriz3[i][j]=ab\n",
    "            matriz4[i][j]=ab\n",
    "        if j>2:\n",
    "            mresp[i]=float(input(\"igual a =\"))\n",
    "\n",
    "def det2x2(m,b):\n",
    "    r=0\n",
    "    if b==0:\n",
    "        r=(m[1][1]*m[2][2]-m[1][2]*m[2][1])\n",
    "    if b==1:\n",
    "        r=(m[1][0]*m[2][2]-m[1][2]*m[2][0])*(-1)\n",
    "    if b==2:\n",
    "        r=(m[1][0]*m[2][1]-m[1][1]*m[2][0])    \n",
    "    \n",
    "    return (r)\n",
    "\n",
    "for j in range (0,3):\n",
    "    matriz2[j][0]=mresp[j]\n",
    "    matriz3[j][1]=mresp[j]\n",
    "    matriz4[j][2]=mresp[j]\n",
    "\n",
    "for i in range (0,3):    \n",
    "    D = D + (matriz[0][i]*det2x2(matriz,i))\n",
    "    D2 = D2 + (matriz2[0][i]*det2x2(matriz2,i))\n",
    "    D3 = D3 + (matriz3[0][i]*det2x2(matriz3,i))\n",
    "    D4 = D4 + (matriz4[0][i]*det2x2(matriz4,i))\n",
    "\n",
    "    \n",
    "print ('D = ',D)\n",
    "print ('X1 = ',(D2/D))\n",
    "print (\"X2 = \",(D3/D))\n",
    "print (\"X3 = \",(D4/D))\n",
    "\n",
    "    \n",
    "    "
   ]
  },
  {
   "cell_type": "code",
   "execution_count": null,
   "metadata": {
    "collapsed": true
   },
   "outputs": [],
   "source": []
  },
  {
   "cell_type": "code",
   "execution_count": null,
   "metadata": {
    "collapsed": true
   },
   "outputs": [],
   "source": []
  }
 ],
 "metadata": {
  "kernelspec": {
   "display_name": "Python 3",
   "language": "python",
   "name": "python3"
  },
  "language_info": {
   "codemirror_mode": {
    "name": "ipython",
    "version": 3
   },
   "file_extension": ".py",
   "mimetype": "text/x-python",
   "name": "python",
   "nbconvert_exporter": "python",
   "pygments_lexer": "ipython3",
   "version": "3.5.1"
  }
 },
 "nbformat": 4,
 "nbformat_minor": 0
}
