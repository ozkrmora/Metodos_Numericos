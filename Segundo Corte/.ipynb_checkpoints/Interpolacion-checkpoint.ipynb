{
 "cells": [
  {
   "cell_type": "code",
   "execution_count": 3,
   "metadata": {
    "collapsed": false
   },
   "outputs": [
    {
     "name": "stdout",
     "output_type": "stream",
     "text": [
      "0.358351893845611\n",
      "0.48300749985576874\n",
      "0.46209812037329684\n",
      "0.33333333333333337\n",
      "0.6931471805599453\n"
     ]
    }
   ],
   "source": [
    "#Interpolacion lineal\n",
    "import math\n",
    "import matplotlib.pyplot as plt\n",
    "a,b,c=1,4,6\n",
    "i=a\n",
    "x,y=[],[]\n",
    "\n",
    "def funcion(o):\n",
    "    return(math.log(o))\n",
    "    \n",
    "def iLineal(o):        \n",
    "    r=funcion(a)+((funcion(c)-funcion(a))/(c-a))*(o-a)\n",
    "    r2=funcion(a)+((funcion(b)-funcion(a))/(b-a))*(o-a)\n",
    "    plt.plot(o,r,'bo')\n",
    "    plt.plot(o,r2,'bo')\n",
    "    print (r)\n",
    "    print ((funcion(2)-r)/funcion(2))\n",
    "    print (r2)       \n",
    "    print ((funcion(2)-r2)/funcion(2))\n",
    "    \n",
    "while (i<=c):\n",
    "    x.append(i)\n",
    "    y.append(funcion(i))\n",
    "    i+=0.2 \n",
    "iLineal(2)\n",
    "print(funcion(2))\n",
    "\n",
    "\n",
    "plt.plot(x,y,'k')\n",
    "plt.plot([1,4],[funcion(1),funcion(4)],'b')\n",
    "plt.plot([1,6],[funcion(1),funcion(6)],'b')\n",
    "\n",
    "plt.plot(2,funcion(2),'ko')\n",
    "plt.axis([0,8,0,2])\n",
    "plt.grid(True)\n",
    "plt.show()\n"
   ]
  },
  {
   "cell_type": "code",
   "execution_count": 1,
   "metadata": {
    "collapsed": false
   },
   "outputs": [],
   "source": [
    "#Interpolacion cuadratica\n",
    "\n",
    "import math\n",
    "import matplotlib.pyplot as plt\n",
    "a,b,c=1,4,6\n",
    "bA=[]\n",
    "i=a\n",
    "x,y=[],[]\n",
    "y2=[]\n",
    "\n",
    "def funcion(x):\n",
    "    return(math.log(x))\n",
    "    \n",
    "def iCuadratica():        \n",
    "    bA.append(funcion(a))\n",
    "    bA.append((funcion(b)-funcion(a))/(b-a))\n",
    "    bA.append((((funcion(c)-funcion(b))/(c-b))-((funcion(b)-funcion(a))/(b-a)))/(c-a))\n",
    "\n",
    "def nF(u):    \n",
    "    return (bA[0]+(bA[1]*(u-a))+(bA[2]*(u-a)*(u-b)))\n",
    "    \n",
    "iCuadratica()\n",
    "\n",
    "while (i<=10):\n",
    "    x.append(i)\n",
    "    y.append(funcion(i))    \n",
    "    y2.append(nF(i))    \n",
    "    i+=0.2 \n",
    "    \n",
    "plt.plot(x,y,'k')\n",
    "plt.plot(x,y2,'b')\n",
    "plt.plot(2,funcion(2),'ko')\n",
    "plt.axis([0,8,0,2])\n",
    "plt.grid(True)\n",
    "plt.show()        \n",
    "\n"
   ]
  },
  {
   "cell_type": "code",
   "execution_count": null,
   "metadata": {
    "collapsed": true
   },
   "outputs": [],
   "source": []
  }
 ],
 "metadata": {
  "kernelspec": {
   "display_name": "Python 3",
   "language": "python",
   "name": "python3"
  },
  "language_info": {
   "codemirror_mode": {
    "name": "ipython",
    "version": 3
   },
   "file_extension": ".py",
   "mimetype": "text/x-python",
   "name": "python",
   "nbconvert_exporter": "python",
   "pygments_lexer": "ipython3",
   "version": "3.5.1"
  }
 },
 "nbformat": 4,
 "nbformat_minor": 0
}
