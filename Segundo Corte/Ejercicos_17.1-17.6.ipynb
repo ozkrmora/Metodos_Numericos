{
 "cells": [
  {
   "cell_type": "code",
   "execution_count": 36,
   "metadata": {
    "collapsed": false
   },
   "outputs": [
    {
     "name": "stdout",
     "output_type": "stream",
     "text": [
      "Media: \n",
      "9.652000000000001\n",
      "Desviacion estandar: \n",
      "0.6888367005321363\n",
      "varianza: \n",
      "0.474496\n",
      "Coef de variacion: \n",
      "0.07136725036594864\n",
      "El intervalo de confianza del 95% para la media es de: \n",
      "9.381976013391403\n",
      "y\n",
      "9.922023986608599\n"
     ]
    }
   ],
   "source": [
    "#Ejercicio 17.1\n",
    "import math\n",
    "\n",
    "x=[8.8,9.5,9.8,9.4,10,9.4,10.1,9.2,11.3,9.4,10,10.4,7.9,10.4,9.8,9.8,9.5,8.9,8.8,10.6,10.1,9.5,9.6,10.2,8.9]\n",
    "m=0\n",
    "v=0\n",
    "for i in range(len(x)):\n",
    "    m=m+x[i]\n",
    "    \n",
    "print ('Media: ')\n",
    "m=m/len(x)\n",
    "print (m)\n",
    "\n",
    "for i in range (len(x)):\n",
    "    v=v+(((x[i]-m)**2)/len(x))\n",
    "print ('Desviacion estandar: ')\n",
    "de=pow(v,0.5)\n",
    "print (de)\n",
    "print ('varianza: ')\n",
    "print (v)\n",
    "print ('Coef de variacion: ')\n",
    "print (pow(v,0.5)/(math.fabs(m)))\n",
    "\n",
    "print ('El intervalo de confianza del 95% para la media es de: ')\n",
    "print (m-(1.96*(de/pow(len(x),0.5))))\n",
    "print ('y')\n",
    "print (m+(1.96*(de/pow(len(x),0.5))))\n"
   ]
  },
  {
   "cell_type": "code",
   "execution_count": 47,
   "metadata": {
    "collapsed": false
   },
   "outputs": [],
   "source": [
    "#Ejercicio 17.2\n",
    "from matplotlib.pylab import hist, show\n",
    "x=[8.8,9.5,9.8,9.4,10,9.4,10.1,9.2,11.3,9.4,10,10.4,7.9,10.4,9.8,9.8,9.5,8.9,8.8,10.6,10.1,9.5,9.6,10.2,8.9]\n",
    "hist(x,len(x),(7.5,11.5))\n",
    "show()"
   ]
  },
  {
   "cell_type": "code",
   "execution_count": 51,
   "metadata": {
    "collapsed": false
   },
   "outputs": [
    {
     "name": "stdout",
     "output_type": "stream",
     "text": [
      "Media: \n",
      "27.992307692307687\n",
      "Desviacion estandar: \n",
      "1.1087668399286854\n",
      "varianza: \n",
      "1.229363905325443\n",
      "Coef de variacion: \n",
      "0.03960969749676536\n",
      "El intervalo de confianza del 90% para la media es de: \n",
      "27.634607266408054\n",
      "y\n",
      "28.35000811820732\n"
     ]
    }
   ],
   "source": [
    "#Ejercicio 17.3\n",
    "\n",
    "from matplotlib.pylab import hist, show\n",
    "x=[28.65,26.55,26.65,27.65,27.35,28.35,26.85,28.65,29.65,27.85,27.05,28.25,28.35,26.75,\n",
    "   27.65,28.45,28.65,28.45,31.65,26.35,27.75,29.25,27.65,28.55,27.55,27.25]\n",
    "\n",
    "m=0\n",
    "v=0\n",
    "for i in range(len(x)):\n",
    "    m=m+x[i]\n",
    "    \n",
    "print ('Media: ')\n",
    "m=m/len(x)\n",
    "print (m)\n",
    "\n",
    "for i in range (len(x)):\n",
    "    v=v+(((x[i]-m)**2)/len(x))\n",
    "print ('Desviacion estandar: ')\n",
    "de=pow(v,0.5)\n",
    "print (de)\n",
    "print ('varianza: ')\n",
    "print (v)\n",
    "print ('Coef de variacion: ')\n",
    "print (pow(v,0.5)/(math.fabs(m)))\n",
    "\n",
    "print ('El intervalo de confianza del 90% para la media es de: ')\n",
    "print (m-(1.645*(de/pow(len(x),0.5))))\n",
    "print ('y')\n",
    "print (m+(1.645*(de/pow(len(x),0.5))))\n",
    "\n",
    "hist(x,len(x),(26,32))\n",
    "show()\n",
    "\n"
   ]
  },
  {
   "cell_type": "code",
   "execution_count": 58,
   "metadata": {
    "collapsed": false
   },
   "outputs": [
    {
     "name": "stdout",
     "output_type": "stream",
     "text": [
      "Pendiente:\n",
      "0.3524699599465955\n",
      "Interseccion y=\n",
      "4.851535380507342\n"
     ]
    }
   ],
   "source": [
    "#Ejercicio 17.4\n",
    "\n",
    "import math\n",
    "import matplotlib.pyplot as plt\n",
    "\n",
    "x=[0,2,4,6,9,11,12,15,17,19]\n",
    "y=[5,6,7,6,9,8,7,10,12,12] \n",
    "\n",
    "xi=[]\n",
    "fxi=[]\n",
    "\n",
    "def Ea(a):\n",
    "    E=0\n",
    "    for i in range (len(a)):\n",
    "        E+=a[i]\n",
    "    return (E)    \n",
    "\n",
    "def Ea2(a):\n",
    "    E=0\n",
    "    for i in range (len(a)):\n",
    "        E+=a[i]**2\n",
    "    return (E) \n",
    "\n",
    "def Eab(a,b):\n",
    "    E=0\n",
    "    for i in range (len(a)):\n",
    "        E+=a[i]*b[i]\n",
    "    return (E)    \n",
    "\n",
    "def a1(a,b):\n",
    "    R=(len(a)*Eab(a,b))-(Ea(a)*Ea(b))\n",
    "    R=R/((len(a)*Ea2(a))-(Ea(a)**2))\n",
    "    return R;\n",
    "\n",
    "def a0(a,b):\n",
    "    R=(Ea(b)/len(b))-a1(a,b)*(Ea(a)/len(a))\n",
    "    return R;\n",
    "\n",
    "def funcionRecta(a,b,i):\n",
    "    if i<len(a): \n",
    "        plt.plot(x[i],y[i],'ro')        \n",
    "        \n",
    "    return (a0(a,b)+a1(a,b)*i)\n",
    "    \n",
    "for i in range (len(x)+11):\n",
    "    fxi.append(funcionRecta(x,y,i))\n",
    "    xi.append(i)\n",
    "\n",
    "print ('Pendiente:')\n",
    "print ((fxi[10]-fxi[3])/(xi[10]-xi[3]))\n",
    "print ('Interseccion y=')\n",
    "print (fxi[0])\n",
    "    \n",
    "    \n",
    "plt.plot(xi,fxi,'k')\n",
    "\n",
    "\n",
    "plt.axis([0,20,0,15])\n",
    "plt.grid(True)\n",
    "plt.show()    \n",
    "    \n",
    "    "
   ]
  },
  {
   "cell_type": "code",
   "execution_count": null,
   "metadata": {
    "collapsed": true
   },
   "outputs": [],
   "source": []
  }
 ],
 "metadata": {
  "kernelspec": {
   "display_name": "Python 3",
   "language": "python",
   "name": "python3"
  },
  "language_info": {
   "codemirror_mode": {
    "name": "ipython",
    "version": 3
   },
   "file_extension": ".py",
   "mimetype": "text/x-python",
   "name": "python",
   "nbconvert_exporter": "python",
   "pygments_lexer": "ipython3",
   "version": "3.5.1"
  }
 },
 "nbformat": 4,
 "nbformat_minor": 0
}
