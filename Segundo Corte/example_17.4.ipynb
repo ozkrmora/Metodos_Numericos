{
 "cells": [
  {
   "cell_type": "code",
   "execution_count": 19,
   "metadata": {
    "collapsed": false
   },
   "outputs": [],
   "source": [
    "import random\n",
    "import math\n",
    "import matplotlib.pyplot as plt\n",
    "\n",
    "x=[1,2,3,4,5]\n",
    "y=[]\n",
    "\n",
    "x2=[]\n",
    "y2=[]\n",
    "\n",
    "def f(a):    \n",
    "    r=(a**1.75)/(10**0.3)\n",
    "    return (r);\n",
    "\n",
    "def f2(a):\n",
    "    r=(1.75*math.log10(a))-0.3    \n",
    "    return (r);\n",
    "\n",
    "for i in range (1,len(x)+1):\n",
    "    y.append(f(i))\n",
    "\n",
    "for i in range (1,len(x)+1):\n",
    "    x2.append(math.log10(i))\n",
    "    y2.append(f2(i))\n",
    "    \n",
    "    \n",
    "\n",
    "xi=[]\n",
    "fxi=[]\n",
    "\n",
    "def Ea(a):\n",
    "    E=0\n",
    "    for i in range (len(a)):\n",
    "        E+=a[i]\n",
    "    return (E)    \n",
    "\n",
    "def Ea2(a):\n",
    "    E=0\n",
    "    for i in range (len(a)):\n",
    "        E+=a[i]**2\n",
    "    return (E) \n",
    "\n",
    "def Eab(a,b):\n",
    "    E=0\n",
    "    for i in range (len(a)):\n",
    "        E+=a[i]*b[i]\n",
    "    return (E)    \n",
    "\n",
    "def a1(a,b):\n",
    "    R=(len(a)*Eab(a,b))-(Ea(a)*Ea(b))\n",
    "    R=R/((len(a)*Ea2(a))-(Ea(a)**2))\n",
    "    return R;\n",
    "\n",
    "def a0(a,b):\n",
    "    R=(Ea(b)/len(b))-a1(a,b)*(Ea(a)/len(a))\n",
    "    return R;\n",
    "\n",
    "def funcionRecta(a,b,i):\n",
    "    if i<len(a): \n",
    "        plt.plot(x[i],y[i],'ro') \n",
    "        plt.plot(x2[i],y2[i],'bo') \n",
    "        \n",
    "    return (a0(a,b)+a1(a,b)*i)\n",
    "    \n",
    "for i in range (len(x)+4):\n",
    "    fxi.append(funcionRecta(x,y,i))\n",
    "    xi.append(i)\n",
    "\n",
    "plt.plot(xi,fxi,'k')\n",
    "\n",
    "\n",
    "plt.axis([0,9,-1.5,9])\n",
    "plt.grid(True)\n",
    "plt.show()    \n",
    "    \n",
    "    "
   ]
  },
  {
   "cell_type": "code",
   "execution_count": null,
   "metadata": {
    "collapsed": true
   },
   "outputs": [],
   "source": []
  },
  {
   "cell_type": "code",
   "execution_count": null,
   "metadata": {
    "collapsed": true
   },
   "outputs": [],
   "source": []
  }
 ],
 "metadata": {
  "kernelspec": {
   "display_name": "Python 3",
   "language": "python",
   "name": "python3"
  },
  "language_info": {
   "codemirror_mode": {
    "name": "ipython",
    "version": 3
   },
   "file_extension": ".py",
   "mimetype": "text/x-python",
   "name": "python",
   "nbconvert_exporter": "python",
   "pygments_lexer": "ipython3",
   "version": "3.5.1"
  }
 },
 "nbformat": 4,
 "nbformat_minor": 0
}
