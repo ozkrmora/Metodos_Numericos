{
 "cells": [
  {
   "cell_type": "code",
   "execution_count": 9,
   "metadata": {
    "collapsed": false
   },
   "outputs": [
    {
     "name": "stdout",
     "output_type": "stream",
     "text": [
      "x1=  4.0   x2=  3.0\n"
     ]
    }
   ],
   "source": [
    "import math\n",
    "import matplotlib.pyplot as plt\n",
    "\n",
    "f1x=[]\n",
    "f2x=[]\n",
    "\n",
    "y=[]\n",
    "\n",
    "a11,a12,b1=3,2,18\n",
    "a21,a22,b2=-1,2,2\n",
    "\n",
    "def f1(o):\n",
    "    x2=(b1-(a11*(o)))/a12\n",
    "    return (x2)\n",
    "def f2(o):\n",
    "    x22=(b2-(a21*(o)))/a22\n",
    "    return (x22)\n",
    "\n",
    "def ecuaciones():    \n",
    "    x1=((b1/a12)-(b2/a22))/(-(a21/a22)+(a11/a12))\n",
    "    x2=(-(a11/a12)*x1)+(b1/a12)\n",
    "\n",
    "    print ('x1= ',x1,'  x2= ',x2)\n",
    "\n",
    "for i in range (0,10):\n",
    "    f1x.append(f1(i))\n",
    "    f2x.append(f2(i))\n",
    "    y.append(i)      \n",
    "\n",
    "ecuaciones()    \n",
    "    \n",
    "plt.plot(y,f1x,'b--')\n",
    "plt.plot(y,f2x,'k--')\n",
    "plt.xlabel('X1')\n",
    "plt.ylabel('X2')\n",
    "plt.grid(True)\n",
    "plt.show()        \n",
    "\n",
    "\n",
    "\n"
   ]
  },
  {
   "cell_type": "code",
   "execution_count": null,
   "metadata": {
    "collapsed": true
   },
   "outputs": [],
   "source": []
  },
  {
   "cell_type": "code",
   "execution_count": null,
   "metadata": {
    "collapsed": true
   },
   "outputs": [],
   "source": []
  }
 ],
 "metadata": {
  "kernelspec": {
   "display_name": "Python 3",
   "language": "python",
   "name": "python3"
  },
  "language_info": {
   "codemirror_mode": {
    "name": "ipython",
    "version": 3
   },
   "file_extension": ".py",
   "mimetype": "text/x-python",
   "name": "python",
   "nbconvert_exporter": "python",
   "pygments_lexer": "ipython3",
   "version": "3.5.1"
  }
 },
 "nbformat": 4,
 "nbformat_minor": 0
}
