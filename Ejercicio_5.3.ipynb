{
 "cells": [
  {
   "cell_type": "code",
   "execution_count": 16,
   "metadata": {
    "collapsed": false
   },
   "outputs": [
    {
     "name": "stdout",
     "output_type": "stream",
     "text": [
      "biseccion:  0.75\n",
      "falsa posicion:  0.0007263803267993918\n"
     ]
    }
   ],
   "source": [
    "import math\n",
    "import matplotlib.pyplot as plt\n",
    "\n",
    "i=-1\n",
    "\n",
    "Ea=[]\n",
    "Ea2=[]\n",
    "\n",
    "x=[]\n",
    "y=[]\n",
    "\n",
    "def abc(c):\n",
    "    vta=-(25182*c)-(90*(c**(2)))+(44*(c**(3)))-(8*(c**(4)))+(0.7*(c**(5)))\n",
    "    return (vta)\n",
    "\n",
    "def test(a,b):\n",
    "    o=abc(a)*abc(b)    \n",
    "    if o<0:\n",
    "        return (1)\n",
    "    if o>0:\n",
    "        return (2)    \n",
    "        \n",
    "def biseccion():\n",
    "    t=0\n",
    "    xl=0.5\n",
    "    xu=1\n",
    "    xr=0.0\n",
    "    Va=0\n",
    "    j=0\n",
    "    while (True):            \n",
    "        xr=(xl+xu)/2\n",
    "        h=test(xl,xu)\n",
    "        if h==1:            \n",
    "            h2=test(xl,xr)\n",
    "            if h2<2:\n",
    "                xu=xr\n",
    "            else:\n",
    "                xl=xr\n",
    "                \n",
    "        Ea2.append(math.fabs(100*((xr-Va)/xr)))#Error relativo porcentual aproximado        \n",
    "               \n",
    "        if Ea2[j]<10: \n",
    "            break            \n",
    "        \n",
    "        j=j+1\n",
    "        Va=xr\n",
    "        \n",
    "    return (xr)\n",
    "\n",
    "def falsa_posicion():\n",
    "    t=0\n",
    "    xl=0.5\n",
    "    xu=1\n",
    "    xr=0.0\n",
    "    Va=0 #Valor anterior\n",
    "    j=0\n",
    "    while (j<11):            \n",
    "        \n",
    "        xr=xu-(((abc(xu))*(xl-xu))/((abc(xl)-(abc(xu)))))\n",
    "        h=test(xl,xu)\n",
    "        \n",
    "        if h==1:               \n",
    "            h2=test(xl,xr)\n",
    "            if h2<2:\n",
    "                xu=xr\n",
    "            else:\n",
    "                xl=xr            \n",
    "                \n",
    "        Ea.append(math.fabs(100*((xr-Va)/xr)))#Error relativo porcentual aproximado\n",
    "                        \n",
    "        if Ea[j]<0.2: \n",
    "            break\n",
    "            #if t==0:\n",
    "                #t=1\n",
    "                #plt.plot(j+1,Et[j],'ro')\n",
    "            \n",
    "        j=j+1\n",
    "        Va=xr\n",
    "        \n",
    "    return (xr)\n",
    "    \n",
    "\n",
    "while(i<1.3):    \n",
    "    x.append(abc(i))\n",
    "    y.append(i)\n",
    "    i=i+0.01\n",
    "    \n",
    "print ('biseccion: ',biseccion())\n",
    "print ('falsa posicion: ',falsa_posicion())\n",
    "\n",
    "plt.plot(x,y,'b-')\n",
    "plt.grid(True)\n",
    "\n",
    "plt.xlabel('Iteraciones')\n",
    "plt.ylabel('Error Et')\n",
    "\n",
    "plt.axis([-1,1,-1,1])\n",
    "plt.show()"
   ]
  },
  {
   "cell_type": "code",
   "execution_count": null,
   "metadata": {
    "collapsed": false
   },
   "outputs": [],
   "source": []
  },
  {
   "cell_type": "code",
   "execution_count": null,
   "metadata": {
    "collapsed": false
   },
   "outputs": [],
   "source": []
  },
  {
   "cell_type": "code",
   "execution_count": null,
   "metadata": {
    "collapsed": true
   },
   "outputs": [],
   "source": []
  }
 ],
 "metadata": {
  "kernelspec": {
   "display_name": "Python 3",
   "language": "python",
   "name": "python3"
  },
  "language_info": {
   "codemirror_mode": {
    "name": "ipython",
    "version": 3
   },
   "file_extension": ".py",
   "mimetype": "text/x-python",
   "name": "python",
   "nbconvert_exporter": "python",
   "pygments_lexer": "ipython3",
   "version": "3.5.1"
  }
 },
 "nbformat": 4,
 "nbformat_minor": 0
}
