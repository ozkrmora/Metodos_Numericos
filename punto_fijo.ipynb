{
 "cells": [
  {
   "cell_type": "code",
   "execution_count": 3,
   "metadata": {
    "collapsed": false
   },
   "outputs": [
    {
     "name": "stdout",
     "output_type": "stream",
     "text": [
      "et=>  76.32228356258963\n",
      "et=>  35.13465685692193\n",
      "et=>  22.050395334016283\n",
      "et=>  11.755369518056566\n",
      "et=>  6.894244501349456\n",
      "et=>  3.8345695714698382\n",
      "et=>  2.198570577001609\n",
      "et=>  1.2391627940993233\n",
      "et=>  0.7052582919877346\n",
      "et=>  0.39918353066479273\n",
      "Raiz por newton  0.5648793473910495\n"
     ]
    }
   ],
   "source": [
    "import math\n",
    "\n",
    "Vv=0.56714329\n",
    "\n",
    "\n",
    "def abc(c):\n",
    "    vta=math.exp(-c)\n",
    "    return (vta)\n",
    "\n",
    "def newton():\n",
    "    j=0\n",
    "    \n",
    "    x=0    \n",
    "    while (j<10) :\n",
    "        \n",
    "        x=abc(x)\n",
    "        Et=math.fabs(100*((Vv-x)/Vv))\n",
    "        print ('et=> ',Et)\n",
    "        if(Et<0.1):break\n",
    "        j=j+1\n",
    "        \n",
    "    return (x)\n",
    "    \n",
    "print ('Raiz por newton ',newton())\n",
    "    \n"
   ]
  },
  {
   "cell_type": "code",
   "execution_count": null,
   "metadata": {
    "collapsed": false
   },
   "outputs": [],
   "source": []
  },
  {
   "cell_type": "code",
   "execution_count": null,
   "metadata": {
    "collapsed": false
   },
   "outputs": [],
   "source": []
  },
  {
   "cell_type": "code",
   "execution_count": null,
   "metadata": {
    "collapsed": true
   },
   "outputs": [],
   "source": []
  }
 ],
 "metadata": {
  "kernelspec": {
   "display_name": "Python 3",
   "language": "python",
   "name": "python3"
  },
  "language_info": {
   "codemirror_mode": {
    "name": "ipython",
    "version": 3
   },
   "file_extension": ".py",
   "mimetype": "text/x-python",
   "name": "python",
   "nbconvert_exporter": "python",
   "pygments_lexer": "ipython3",
   "version": "3.5.1"
  }
 },
 "nbformat": 4,
 "nbformat_minor": 0
}
