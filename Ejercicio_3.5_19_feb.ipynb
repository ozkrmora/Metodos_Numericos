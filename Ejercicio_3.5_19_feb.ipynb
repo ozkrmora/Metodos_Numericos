{
 "cells": [
  {
   "cell_type": "code",
   "execution_count": 22,
   "metadata": {
    "collapsed": false
   },
   "outputs": [
    {
     "name": "stdout",
     "output_type": "stream",
     "text": [
      "t   |  e^x (metodo 1) |  e^x (metodo 2) | Ea1        | Et1        | Ea2        | Et2       \n",
      "  1 | 1.0000          | 1.0000          | 100.0000   | 0.9933     | 100.0000   | 0.9933    \n",
      "  2 | -4.0000         | 0.1667          | 125.0000   | 4.0067     | 500.0000   | 0.1599    \n",
      "  3 | 8.5000          | 0.0541          | 147.0588   | 8.4933     | 208.3333   | 0.0473    \n",
      "  4 | -12.3333        | 0.0254          | 168.9189   | 12.3401    | 112.6126   | 0.0187    \n",
      "  5 | 13.7083         | 0.0153          | 189.9696   | 13.7016    | 66.2076    | 0.0086    \n",
      "  6 | -12.3333        | 0.0109          | 211.1486   | 12.3401    | 39.8343    | 0.0042    \n",
      "  7 | 9.3681          | 0.0088          | 231.6531   | 9.3613     | 23.7390    | 0.0021    \n",
      "  8 | -6.1329         | 0.0078          | 252.7499   | 6.1397     | 13.7034    | 0.0010    \n",
      "  9 | 3.5552          | 0.0072          | 272.5069   | 3.5484     | 7.5324     | 0.0005    \n",
      " 10 | -1.8271         | 0.0070          | 294.5801   | 1.8338     | 3.8915     | 0.0002    \n",
      " 11 | 0.8640          | 0.0068          | 311.4610   | 0.8573     | 1.8729     | 0.0001    \n",
      " 12 | -0.3592         | 0.0068          | 340.5398   | 0.3659     | 0.8357     | 0.0000    \n",
      " 13 | 0.1505          | 0.0068          | 338.7115   | 0.1437     | 0.3453     | 0.0000    \n",
      " 14 | -0.0456         | 0.0067          | 430.3202   | 0.0523     | 0.1324     | 0.0000    \n",
      " 15 | 0.0245          | 0.0067          | 286.2690   | 0.0177     | 0.0472     | 0.0000    \n",
      " 16 | 0.0011          | 0.0067          | 2084.8413  | 0.0056     | 0.0157     | 0.0000    \n",
      " 17 | 0.0084          | 0.0067          | 86.6935    | 0.0017     | 0.0049     | 0.0000    \n",
      " 18 | 0.0063          | 0.0067          | 34.2247    | 0.0005     | 0.0014     | 0.0000    \n",
      " 19 | 0.0069          | 0.0067          | 8.6815     | 0.0001     | 0.0004     | 0.0000    \n",
      " 20 | 0.0067          | 0.0067          | 2.3380     | 0.0000     | 0.0001     | 0.0000    \n",
      "Valor verdadero:\n",
      "0.00670634105421557\n"
     ]
    }
   ],
   "source": [
    "import math\n",
    "\n",
    "Et=[]\n",
    "Ea=[]\n",
    "Et2=[]\n",
    "Ea2=[]\n",
    "\n",
    "\n",
    "x=5\n",
    "n=20\n",
    "\n",
    "def factorial(a):\n",
    "    r=1\n",
    "    for it in range (1,a+1):\n",
    "        r=r*it\n",
    "    return (r)\n",
    "\n",
    "def euler(n,x):\n",
    "    resp=0\n",
    "    Vaa=0\n",
    "    resp2=0\n",
    "    Vaa2=0\n",
    "    \n",
    "    signo=1;\n",
    "    print ('{0:3} | {1:15} | {2:15} | {3:10} | {4:10} | {5:10} | {6:10}'.format('t',' e^x (metodo 1)' ,' e^x (metodo 2)' ,'Ea1 ','Et1','Ea2 ','Et2')) \n",
    "    for i in range (0,n):                  \n",
    "        resp=resp+((x**(i))/factorial(i))*(signo)\n",
    "        \n",
    "        if signo==1:\n",
    "            signo=-1\n",
    "        else:\n",
    "            signo=1\n",
    "        \n",
    "        Et.append(math.fabs(math.exp(-x)-resp))\n",
    "        Ea.append(math.fabs(((resp-Vaa)/resp)*100))         \n",
    "        Vaa=resp\n",
    "        \n",
    "        resp2=metodo2(i,x)\n",
    "        Et2.append(math.fabs(math.exp(-x)-resp2))\n",
    "        Ea2.append(math.fabs(((resp2-Vaa2)/resp2)*100))         \n",
    "        Vaa2=resp2\n",
    "        \n",
    "        print ('{0:3} | {1:15} | {2:15} | {3:10} | {4:10} | {5:10} | {6:10}'.format(i+1,\"%.4f\" % resp,\"%.4f\" % resp2,\"%.4f\" % Ea[i],\"%.4f\" % Et[i],\"%.4f\" % Ea2[i],\"%.4f\" % Et2[i]))\n",
    "    print ('Valor verdadero:')\n",
    "    return (resp)       \n",
    "\n",
    "\n",
    "def metodo2(a,x):\n",
    "    resp=0\n",
    "    Vaa=0    \n",
    "    \n",
    "    for i in range (0,a+1):                  \n",
    "        resp=resp+((x**(i))/factorial(i))                      \n",
    "    \n",
    "    if resp>0:\n",
    "        resp=1/resp    \n",
    "    \n",
    "    return (resp) \n",
    "    \n",
    "print (euler(n,x))\n",
    "\n",
    "\n",
    "\n",
    "\n"
   ]
  },
  {
   "cell_type": "code",
   "execution_count": null,
   "metadata": {
    "collapsed": true
   },
   "outputs": [],
   "source": []
  },
  {
   "cell_type": "code",
   "execution_count": null,
   "metadata": {
    "collapsed": true
   },
   "outputs": [],
   "source": []
  },
  {
   "cell_type": "code",
   "execution_count": null,
   "metadata": {
    "collapsed": true
   },
   "outputs": [],
   "source": []
  }
 ],
 "metadata": {
  "kernelspec": {
   "display_name": "Python 3",
   "language": "python",
   "name": "python3"
  },
  "language_info": {
   "codemirror_mode": {
    "name": "ipython",
    "version": 3
   },
   "file_extension": ".py",
   "mimetype": "text/x-python",
   "name": "python",
   "nbconvert_exporter": "python",
   "pygments_lexer": "ipython3",
   "version": "3.5.1"
  }
 },
 "nbformat": 4,
 "nbformat_minor": 0
}
