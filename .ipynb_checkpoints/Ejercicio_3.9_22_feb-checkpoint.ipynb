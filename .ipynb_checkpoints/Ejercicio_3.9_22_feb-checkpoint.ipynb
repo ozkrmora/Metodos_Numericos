{
 "cells": [
  {
   "cell_type": "code",
   "execution_count": 1,
   "metadata": {
    "collapsed": false
   },
   "outputs": [
    {
     "name": "stdout",
     "output_type": "stream",
     "text": [
      "iteracion       | Valor verdadero |  Valor obtenido\n",
      "              1 |      0.58778525 |             1.0\n",
      "              2 |      0.58778525 |       0.5558678\n",
      "              3 |      0.58778525 |      0.58874337\n",
      "              4 |      0.58778525 |      0.58776996\n",
      "              5 |      0.58778525 |       0.5877854\n",
      "              6 |      0.58778525 |      0.58778525\n",
      "Valor verdadero:\n",
      "0.5877852522924731\n"
     ]
    }
   ],
   "source": [
    "import math\n",
    "\n",
    "x=math.pi*0.3\n",
    "\n",
    "def factorial(a):\n",
    "    r=1\n",
    "    for it in range (1,a+1):\n",
    "        r=r*it\n",
    "    return (r)\n",
    "\n",
    "def cos(x):\n",
    "    resp=0\n",
    "    Vaa=0\n",
    "        \n",
    "    j=0\n",
    "    signo=1;\n",
    "    print ('{0:15} | {1:15} | {2:15}'.format('iteracion','Valor verdadero' ,' Valor obtenido' )) \n",
    "    \n",
    "    while(Vaa==0):\n",
    "        i=j*2\n",
    "        resp=resp+((x**(i))/factorial(i))*(signo)\n",
    "        \n",
    "        if signo==1:\n",
    "            signo=-1\n",
    "        else:\n",
    "            signo=1\n",
    "        \n",
    "        Vt=math.cos(x)        \n",
    "        \n",
    "        print ('{0:15} | {1:15} | {2:15}'.format(j+1,round(Vt,8),round(resp,8)))        \n",
    "        j=j+1\n",
    "        \n",
    "        if round(Vt,8)==round(resp,8):            \n",
    "            break\n",
    "    \n",
    "    \n",
    "    print ('Valor verdadero:')\n",
    "    return (math.cos(x))       \n",
    "\n",
    "print (cos(x))\n",
    "\n",
    "\n",
    "\n",
    "\n"
   ]
  },
  {
   "cell_type": "code",
   "execution_count": null,
   "metadata": {
    "collapsed": true
   },
   "outputs": [],
   "source": []
  },
  {
   "cell_type": "code",
   "execution_count": null,
   "metadata": {
    "collapsed": true
   },
   "outputs": [],
   "source": []
  },
  {
   "cell_type": "code",
   "execution_count": null,
   "metadata": {
    "collapsed": true
   },
   "outputs": [],
   "source": []
  }
 ],
 "metadata": {
  "kernelspec": {
   "display_name": "Python 3",
   "language": "python",
   "name": "python3"
  },
  "language_info": {
   "codemirror_mode": {
    "name": "ipython",
    "version": 3
   },
   "file_extension": ".py",
   "mimetype": "text/x-python",
   "name": "python",
   "nbconvert_exporter": "python",
   "pygments_lexer": "ipython3",
   "version": "3.5.1"
  }
 },
 "nbformat": 4,
 "nbformat_minor": 0
}
