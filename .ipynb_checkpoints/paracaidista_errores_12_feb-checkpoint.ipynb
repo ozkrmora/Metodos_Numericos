{
 "cells": [
  {
   "cell_type": "code",
   "execution_count": 42,
   "metadata": {
    "collapsed": false
   },
   "outputs": [
    {
     "name": "stdout",
     "output_type": "stream",
     "text": [
      "tiempo  | V [t]           | V [t] aprox     | Eb              | Et              | Ea              | Es             \n",
      "        |                 |                 |                 |                 |                 |                \n",
      "      0 | 0.000           | 19.600          | 19.600         \n",
      "      2 | 16.405          | 29.983          | 13.578         \n",
      "      4 | 27.769          | 37.175          | 9.406          \n",
      "      6 | 35.642          | 42.157          | 6.516          \n",
      "      8 | 41.095          | 45.609          | 4.514          \n",
      "     10 | 44.873          | 48.000          | 3.127          \n",
      "     12 | 47.490          | 49.656          | 2.166          \n",
      "     14 | 49.303          | 50.804          | 1.500          \n",
      "     16 | 50.559          | 51.598          | 1.039          \n",
      "     18 | 51.429          | 52.149          | 0.720          \n",
      "     20 | 52.032          | 52.530          | 0.499          \n",
      "     22 | 52.449          | 52.795          | 0.346          \n",
      "     24 | 52.738          | 52.978          | 0.239          \n",
      "     26 | 52.939          | 53.105          | 0.166          \n",
      "     28 | 53.077          | 53.192          | 0.115          \n",
      "     30 | 53.174          | 53.253          | 0.080          \n",
      "     32 | 53.240          | 53.295          | 0.055          \n",
      "     34 | 53.286          | 53.325          | 0.038          \n",
      "     36 | 53.318          | 53.345          | 0.026          \n",
      "     38 | 53.340          | 53.359          | 0.018          \n",
      "     40 | 53.356          | 53.369          | 0.013          \n",
      "     42 | 53.366          | 53.375          | 0.009          \n",
      "     44 | 53.374          | 53.380          | 0.006          \n",
      "     46 | 53.379          | 53.383          | 0.004          \n",
      "     48 | 53.382          | 53.385          | 0.003          \n",
      "     50 | 53.385          | 53.387          | 0.002          \n",
      "     52 | 53.387          | 53.388          | 0.001          \n",
      "     54 | 53.388          | 53.389          | 0.001          \n",
      "     56 | 53.389          | 53.389          | 0.001          \n",
      "     58 | 53.389          | 53.390          | 0.000          \n"
     ]
    }
   ],
   "source": [
    "import math\n",
    "import matplotlib.pyplot as plt\n",
    "import numpy as np\n",
    "\n",
    "g = 9.8\n",
    "m = 68.1\n",
    "c =12.5\n",
    "Vaa=0\n",
    "\n",
    "msg='Hola mundo'\n",
    "\n",
    "y=[] \n",
    "x=[]\n",
    "\n",
    "Vb=[]\n",
    "Va=[]\n",
    "\n",
    "Eb=[]\n",
    "Et=[]\n",
    "Ea=[]\n",
    "Es=[]\n",
    "\n",
    "it = 2;\n",
    "\n",
    "def abc(g,m,c,i):\n",
    " vta=(((g*m)/c)*(1-math.exp(-(c/m)*i))) \n",
    " return (vta)\n",
    "\n",
    "def abc2(g,m,c,i,it):\n",
    "    Vb.append(abc(g,m,c,i*it))\n",
    "    Va.append((Vb[i]+(g-((c/m)*Vb[i]))*((i*it)+it-(i*it))))\n",
    "    \n",
    "    Eb.append(math.fabs(Vb[i]-Va[i]))\n",
    "    Et.append(math.fabs(((Vb[i]-Va[i])/Va[i])*100))\n",
    "    Ea.append(math.fabs(((Va[i]-Vaa)/Va[i])*100))  \n",
    "    \n",
    "    return Va[i]\n",
    "\n",
    "print ('{0:7} | {1:15} | {2:15} | {3:15} | {4:15} | {5:15} | {6:15}'.format('tiempo','V [t]','V [t] aprox ','Eb','Et','Ea','Es'))   \n",
    "print ('{0:7} | {1:15} | {2:15} | {3:15} | {4:15} | {5:15} | {6:15}'.format('','','','','','',''))   \n",
    "\n",
    "\n",
    "for i in range(0,30):\n",
    "    Vaa=abc2(g,m,c,i,it)\n",
    "    y.append(Vaa)\n",
    "    x.append(i*it)    \n",
    "    print ('{0:7} | {1:15} | {2:15} | {3:15} | {4:15} | {5:15} | {6:15}'.format(i*it,\"%.3f\" % Vb[i],\"%.3f\" % Va[i],\"%.3f\" % Eb[i],\"%.3f\" % Et[i],\"%.3f\" % Ea[i]))    \n",
    "\n",
    "\n",
    "                             \n",
    "plt.plot(x,y,'b-')\n",
    "plt.xlabel('Tiempo s')\n",
    "plt.ylabel('Velocidad m/s')\n",
    "plt.axis([0,60,0,60])\n",
    "plt.show()    \n",
    "\n",
    "    "
   ]
  },
  {
   "cell_type": "code",
   "execution_count": null,
   "metadata": {
    "collapsed": true
   },
   "outputs": [],
   "source": []
  },
  {
   "cell_type": "code",
   "execution_count": null,
   "metadata": {
    "collapsed": true
   },
   "outputs": [],
   "source": []
  },
  {
   "cell_type": "code",
   "execution_count": null,
   "metadata": {
    "collapsed": true
   },
   "outputs": [],
   "source": []
  },
  {
   "cell_type": "code",
   "execution_count": null,
   "metadata": {
    "collapsed": true
   },
   "outputs": [],
   "source": []
  }
 ],
 "metadata": {
  "kernelspec": {
   "display_name": "Python 3",
   "language": "python",
   "name": "python3"
  },
  "language_info": {
   "codemirror_mode": {
    "name": "ipython",
    "version": 3
   },
   "file_extension": ".py",
   "mimetype": "text/x-python",
   "name": "python",
   "nbconvert_exporter": "python",
   "pygments_lexer": "ipython3",
   "version": "3.5.1"
  }
 },
 "nbformat": 4,
 "nbformat_minor": 0
}
