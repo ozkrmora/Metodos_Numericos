{
 "cells": [
  {
   "cell_type": "code",
   "execution_count": 61,
   "metadata": {
    "collapsed": false
   },
   "outputs": [
    {
     "name": "stdout",
     "output_type": "stream",
     "text": [
      "0.5671432904228786\n",
      "0.56689453125\n"
     ]
    }
   ],
   "source": [
    "# import math\n",
    "import matplotlib.pyplot as plt\n",
    "\n",
    "\n",
    "ii=0\n",
    "\n",
    "y=[]\n",
    "x=[]\n",
    "Et=[]\n",
    "Et2=[]\n",
    "\n",
    "Vv=0.56714329\n",
    "\n",
    "def abc(c):\n",
    "    vta=-c+math.exp(-c)\n",
    "    #print (c)\n",
    "    #print (vta)\n",
    "    return (vta)\n",
    "\n",
    "def test(a,b):\n",
    "    o=abc(a)*abc(b)    \n",
    "    if o<0:\n",
    "        return (1)\n",
    "    if o>0:\n",
    "        return (2)\n",
    "    if o==0:\n",
    "        return (3)\n",
    "    \n",
    "while ii<11:\n",
    "    y.append(abc(ii))\n",
    "    x.append(ii)        \n",
    "    ii=ii+1    \n",
    "    \n",
    "def biseccion():\n",
    "    xl=0\n",
    "    xu=1\n",
    "    xr=0.0\n",
    "    j=0\n",
    "    while (j<11):            \n",
    "        xr=(xl+xu)/2\n",
    "        h=test(xl,xu)\n",
    "        if h==1:\n",
    "            #print ('i= ',j,'xl= ',xl,'  xu= ',xu,'  xr= ',xr)        \n",
    "            h2=test(xl,xr)\n",
    "            if h2<2:\n",
    "                xu=xr\n",
    "            else:\n",
    "                xl=xr    \n",
    "        j=j+1\n",
    "        Et2.append(math.fabs((Vv-xr)/Vv))\n",
    "    return (xr)\n",
    "\n",
    "def falsa_posicion():\n",
    "    xl=0\n",
    "    xu=1\n",
    "    xr=0.0\n",
    "    j=0\n",
    "    while (j<11):            \n",
    "        xr=xu-(((abc(xu))*(xl-xu))/((abc(xl)-(abc(xu)))))\n",
    "        h=test(xl,xu)\n",
    "        if h==1:\n",
    "            #print ('i= ',j,'xl= ',xl,'  xu= ',xu,'  xr= ',xr)        \n",
    "            h2=test(xl,xr)\n",
    "            if h2<2:\n",
    "                xu=xr\n",
    "            else:\n",
    "                xl=xr    \n",
    "        j=j+1\n",
    "        Et.append(math.fabs((Vv-xr)/Vv))\n",
    "    return (xr)\n",
    "    \n",
    "print (falsa_posicion())\n",
    "print (biseccion())\n",
    "\n",
    "plt.plot(x,Et,'b--',label = \"fp\")\n",
    "plt.plot(x,Et2,'k--',label = \"Bi\")\n",
    "plt.legend(loc=\"upper left\") \n",
    "plt.axis([0,10,-1,1])\n",
    "plt.show()    \n",
    "    "
   ]
  },
  {
   "cell_type": "code",
   "execution_count": null,
   "metadata": {
    "collapsed": true
   },
   "outputs": [],
   "source": []
  },
  {
   "cell_type": "code",
   "execution_count": null,
   "metadata": {
    "collapsed": false
   },
   "outputs": [],
   "source": []
  }
 ],
 "metadata": {
  "kernelspec": {
   "display_name": "Python 3",
   "language": "python",
   "name": "python3"
  },
  "language_info": {
   "codemirror_mode": {
    "name": "ipython",
    "version": 3
   },
   "file_extension": ".py",
   "mimetype": "text/x-python",
   "name": "python",
   "nbconvert_exporter": "python",
   "pygments_lexer": "ipython3",
   "version": "3.5.1"
  }
 },
 "nbformat": 4,
 "nbformat_minor": 0
}
