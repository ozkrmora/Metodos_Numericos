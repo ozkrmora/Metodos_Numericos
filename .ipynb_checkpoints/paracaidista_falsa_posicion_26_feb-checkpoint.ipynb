{
 "cells": [
  {
   "cell_type": "code",
   "execution_count": 4,
   "metadata": {
    "collapsed": false
   },
   "outputs": [
    {
     "ename": "NameError",
     "evalue": "name 'acb' is not defined",
     "output_type": "error",
     "traceback": [
      "\u001b[1;31m---------------------------------------------------------------------------\u001b[0m",
      "\u001b[1;31mNameError\u001b[0m                                 Traceback (most recent call last)",
      "\u001b[1;32m<ipython-input-4-ef420c062d09>\u001b[0m in \u001b[0;36m<module>\u001b[1;34m()\u001b[0m\n\u001b[0;32m     42\u001b[0m \u001b[1;33m\u001b[0m\u001b[0m\n\u001b[0;32m     43\u001b[0m \u001b[1;32mwhile\u001b[0m \u001b[1;33m(\u001b[0m\u001b[0mj\u001b[0m\u001b[1;33m<\u001b[0m\u001b[1;36m17\u001b[0m\u001b[1;33m)\u001b[0m\u001b[1;33m:\u001b[0m\u001b[1;33m\u001b[0m\u001b[0m\n\u001b[1;32m---> 44\u001b[1;33m     \u001b[0mxr\u001b[0m\u001b[1;33m=\u001b[0m\u001b[0mxu\u001b[0m\u001b[1;33m-\u001b[0m\u001b[1;33m(\u001b[0m\u001b[1;33m(\u001b[0m\u001b[1;33m(\u001b[0m\u001b[0macb\u001b[0m\u001b[1;33m(\u001b[0m\u001b[0mxu\u001b[0m\u001b[1;33m)\u001b[0m\u001b[1;33m)\u001b[0m\u001b[1;33m*\u001b[0m\u001b[1;33m(\u001b[0m\u001b[0mxl\u001b[0m\u001b[1;33m-\u001b[0m\u001b[0mxu\u001b[0m\u001b[1;33m)\u001b[0m\u001b[1;33m)\u001b[0m\u001b[1;33m/\u001b[0m\u001b[1;33m(\u001b[0m\u001b[1;33m(\u001b[0m\u001b[0macb\u001b[0m\u001b[1;33m(\u001b[0m\u001b[0mxl\u001b[0m\u001b[1;33m)\u001b[0m\u001b[1;33m-\u001b[0m\u001b[1;33m(\u001b[0m\u001b[0macb\u001b[0m\u001b[1;33m(\u001b[0m\u001b[0mxu\u001b[0m\u001b[1;33m)\u001b[0m\u001b[1;33m)\u001b[0m\u001b[1;33m)\u001b[0m\u001b[1;33m)\u001b[0m\u001b[1;33m)\u001b[0m\u001b[1;33m\u001b[0m\u001b[0m\n\u001b[0m\u001b[0;32m     45\u001b[0m     \u001b[0mh\u001b[0m\u001b[1;33m=\u001b[0m\u001b[0mtest\u001b[0m\u001b[1;33m(\u001b[0m\u001b[0mxl\u001b[0m\u001b[1;33m,\u001b[0m\u001b[0mxu\u001b[0m\u001b[1;33m)\u001b[0m\u001b[1;33m\u001b[0m\u001b[0m\n\u001b[0;32m     46\u001b[0m     \u001b[1;32mif\u001b[0m \u001b[0mh\u001b[0m\u001b[1;33m==\u001b[0m\u001b[1;36m1\u001b[0m\u001b[1;33m:\u001b[0m\u001b[1;33m\u001b[0m\u001b[0m\n",
      "\u001b[1;31mNameError\u001b[0m: name 'acb' is not defined"
     ]
    }
   ],
   "source": [
    "import math\n",
    "import matplotlib.pyplot as plt\n",
    "\n",
    "g = 9.8\n",
    "m = 68.1\n",
    "\n",
    "t=10.0\n",
    "v=40.0\n",
    "j=0\n",
    "\n",
    "xl=12.0\n",
    "xu=16.0\n",
    "xr=0.0\n",
    "\n",
    "x1=[]\n",
    "x2=[]\n",
    "\n",
    "y=[]\n",
    "x=[]\n",
    "\n",
    "def abc(c):\n",
    " vta=( ((9.8*68.1)/c)*(1-math.exp(-(c/68.1)*10.0)))-40.0 \n",
    " return (vta)\n",
    "\n",
    "def test(a,b):\n",
    "    o=abc(a)*abc(b)    \n",
    "    if o<0:\n",
    "        return (1)\n",
    "    if o>0:\n",
    "        return (2)\n",
    "    if o==0:\n",
    "        return (3)\n",
    "    \n",
    "for i in range(0,25):\n",
    "    if i>3 & i<20:\n",
    "        a=0.0+i\n",
    "        y.append(abc(a))\n",
    "        x.append(a)\n",
    "    x1.append(0)   \n",
    "    x2.append(i)      \n",
    "    \n",
    "\n",
    "while (j<17):            \n",
    "    xr=xu-(((abc(xu))*(xl-xu))/((abc(xl)-(abc(xu)))))\n",
    "    h=test(xl,xu)\n",
    "    if h==1:\n",
    "        print ('i= ',j,'xl= ',xl,'  xu= ',xu,'  xr= ',xr)        \n",
    "        h2=test(xl,xr)\n",
    "        if h2<2:\n",
    "            xu=xr\n",
    "        else:\n",
    "            xl=xr    \n",
    "    j=j+1\n",
    "        \n",
    "print ('la raiz es: ',xr)        \n",
    "\n",
    "plt.plot(x2,x1,'k')\n",
    "plt.plot(x,y,'b-')\n",
    "plt.xlabel('C')\n",
    "plt.ylabel('f(c)')\n",
    "plt.axis([0,25,-10,40])\n",
    "plt.show()    \n",
    "    "
   ]
  },
  {
   "cell_type": "code",
   "execution_count": null,
   "metadata": {
    "collapsed": true
   },
   "outputs": [],
   "source": []
  },
  {
   "cell_type": "code",
   "execution_count": null,
   "metadata": {
    "collapsed": false
   },
   "outputs": [],
   "source": []
  }
 ],
 "metadata": {
  "kernelspec": {
   "display_name": "Python 3",
   "language": "python",
   "name": "python3"
  },
  "language_info": {
   "codemirror_mode": {
    "name": "ipython",
    "version": 3
   },
   "file_extension": ".py",
   "mimetype": "text/x-python",
   "name": "python",
   "nbconvert_exporter": "python",
   "pygments_lexer": "ipython3",
   "version": "3.5.1"
  }
 },
 "nbformat": 4,
 "nbformat_minor": 0
}
