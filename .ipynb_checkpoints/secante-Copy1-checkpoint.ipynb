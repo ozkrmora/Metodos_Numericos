{
 "cells": [
  {
   "cell_type": "code",
   "execution_count": 43,
   "metadata": {
    "collapsed": false
   },
   "outputs": [
    {
     "name": "stdout",
     "output_type": "stream",
     "text": [
      "2.7431881204373916\n",
      "81.71207919708405\n",
      "-0.2752539879025462\n",
      "101.83502658601698\n",
      "0.021198712734286584\n",
      "99.85867524843809\n",
      "-0.0016707667629865738\n",
      "100.01113844508657\n",
      "0.00013144379099755952\n",
      "99.99912370806001\n",
      "-1.0342508963689191e-05\n",
      "100.00006895005976\n",
      "8.137797723598624e-07\n",
      "99.99999457480152\n",
      "-6.403070101718823e-08\n",
      "100.00000042687134\n",
      "5.038132586763424e-09\n",
      "99.99999996641245\n",
      "-3.964157770650949e-10\n",
      "100.00000000264278\n",
      "Raiz por newton t 19.999999999603585\n"
     ]
    }
   ],
   "source": [
    "import math\n",
    "\n",
    "Vv=15\n",
    "\n",
    "\n",
    "def abc(t):\n",
    "    return (95*math.sin(math.radians(45))*t )-((0.5)*(9.8)*(t**2))\n",
    "\n",
    "def newton():\n",
    "    j=0\n",
    "    \n",
    "    x1=1\n",
    "    x=20\n",
    "    while (j<10) :\n",
    "        x= x- ((abc(x)*(x1-x))/(abc(x1)-abc(x)))        \n",
    "        print (x)\n",
    "        j=j+1\n",
    "        \n",
    "    return (x)\n",
    "\n",
    "print ('Raiz por newton t',20+newton())\n",
    "\n",
    "    \n"
   ]
  },
  {
   "cell_type": "code",
   "execution_count": null,
   "metadata": {
    "collapsed": false
   },
   "outputs": [],
   "source": []
  },
  {
   "cell_type": "code",
   "execution_count": null,
   "metadata": {
    "collapsed": false
   },
   "outputs": [],
   "source": []
  },
  {
   "cell_type": "code",
   "execution_count": null,
   "metadata": {
    "collapsed": true
   },
   "outputs": [],
   "source": []
  }
 ],
 "metadata": {
  "kernelspec": {
   "display_name": "Python 3",
   "language": "python",
   "name": "python3"
  },
  "language_info": {
   "codemirror_mode": {
    "name": "ipython",
    "version": 3
   },
   "file_extension": ".py",
   "mimetype": "text/x-python",
   "name": "python",
   "nbconvert_exporter": "python",
   "pygments_lexer": "ipython3",
   "version": "3.5.1"
  }
 },
 "nbformat": 4,
 "nbformat_minor": 0
}
