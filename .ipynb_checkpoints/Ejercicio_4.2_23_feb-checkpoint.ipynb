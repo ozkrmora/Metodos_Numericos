{
 "cells": [
  {
   "cell_type": "code",
   "execution_count": 10,
   "metadata": {
    "collapsed": false
   },
   "outputs": [
    {
     "name": "stdout",
     "output_type": "stream",
     "text": [
      "h          | Verdadero       | Aprox Primer Orden   | R                   \n",
      "         1 |               1 |                    5 | Ea                  \n",
      "         1 |               1 |                    5 | Ea                  \n",
      "         1 |               1 |                    5 | Ea                  \n",
      "         1 |               1 |                    5 | Ea                  \n",
      "         1 |               1 |                    5 | Ea                  \n",
      "         1 |               1 |                    5 | Ea                  \n",
      "         1 |               1 |                    5 | Ea                  \n"
     ]
    }
   ],
   "source": [
    "import math\n",
    "\n",
    "h=1\n",
    "x=1\n",
    "m=4\n",
    "\n",
    "fx=x**(m)\n",
    "\n",
    "def serieT_O_1(h):    \n",
    "    resp = fx+(m*(x**(m-1)*h))    \n",
    "    return resp\n",
    "\n",
    "print ('{0:10} | {1:15} | {2:20} | {3:20}'.format('h','Verdadero','Aprox Primer Orden','R')) \n",
    "\n",
    "for f in range (7):\n",
    "    print ('{0:10} | {1:15} | {2:20} | {3:20}'.format(h,h**(m),serieT_O_1(h),'Ea')) \n",
    "\n"
   ]
  },
  {
   "cell_type": "code",
   "execution_count": null,
   "metadata": {
    "collapsed": true
   },
   "outputs": [],
   "source": []
  },
  {
   "cell_type": "code",
   "execution_count": null,
   "metadata": {
    "collapsed": true
   },
   "outputs": [],
   "source": []
  }
 ],
 "metadata": {
  "kernelspec": {
   "display_name": "Python 3",
   "language": "python",
   "name": "python3"
  },
  "language_info": {
   "codemirror_mode": {
    "name": "ipython",
    "version": 3
   },
   "file_extension": ".py",
   "mimetype": "text/x-python",
   "name": "python",
   "nbconvert_exporter": "python",
   "pygments_lexer": "ipython3",
   "version": "3.5.1"
  }
 },
 "nbformat": 4,
 "nbformat_minor": 0
}
