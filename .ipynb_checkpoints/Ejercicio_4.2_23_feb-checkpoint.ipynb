{
 "cells": [
  {
   "cell_type": "code",
   "execution_count": 8,
   "metadata": {
    "collapsed": false
   },
   "outputs": [
    {
     "name": "stdout",
     "output_type": "stream",
     "text": [
      "h          | Verdadero       | Aprox Primer Orden   | R                   \n",
      "         1 | 16.000000       |                    5 | 11.000000           \n",
      "       0.5 | 5.062500        |                  3.0 | 2.062500            \n",
      "      0.25 | 2.441406        |                  2.0 | 0.441406            \n",
      "     0.125 | 1.601807        |                  1.5 | 0.101807            \n",
      "    0.0625 | 1.274429        |                 1.25 | 0.024429            \n",
      "   0.03125 | 1.130982        |                1.125 | 0.005982            \n",
      "  0.015625 | 1.063980        |               1.0625 | 0.001480            \n"
     ]
    }
   ],
   "source": [
    "import math\n",
    "\n",
    "h=1\n",
    "x=1\n",
    "m=4\n",
    "\n",
    "fx=x**(m)\n",
    "def factorial(a):\n",
    "    r=1\n",
    "    for it in range (1,a+1):\n",
    "        r=r*it\n",
    "    return (r)\n",
    "\n",
    "def serieT_O_1(h):    \n",
    "    resp = fx+(m*(x**(m-1)*h))    \n",
    "    return resp\n",
    "\n",
    "def derivada(d):\n",
    "    pc=1 #parte constante de la derivada\n",
    "    for u in range(d):\n",
    "        pc=pc*(m-u)    \n",
    "    return (pc)    \n",
    "\n",
    "def residuo(h):\n",
    "    r=0\n",
    "    for i in range(2,m+1):        \n",
    "        r=r+(((derivada(i)*(x**(m-i)))/factorial(i))*(h**(i)))\n",
    "    return (r)\n",
    "\n",
    "print ('{0:10} | {1:15} | {2:20} | {3:20}'.format('h','Verdadero','Aprox Primer Orden','R')) \n",
    "\n",
    "for f in range (7):\n",
    "    print ('{0:10} | {1:15} | {2:20} | {3:20}'.format(h,\"%.6f\" %(x+h)**(m),serieT_O_1(h),\"%.6f\" %residuo(h))) \n",
    "    h=h/2\n",
    "\n"
   ]
  },
  {
   "cell_type": "code",
   "execution_count": null,
   "metadata": {
    "collapsed": true
   },
   "outputs": [],
   "source": []
  },
  {
   "cell_type": "code",
   "execution_count": null,
   "metadata": {
    "collapsed": true
   },
   "outputs": [],
   "source": []
  }
 ],
 "metadata": {
  "kernelspec": {
   "display_name": "Python 3",
   "language": "python",
   "name": "python3"
  },
  "language_info": {
   "codemirror_mode": {
    "name": "ipython",
    "version": 3
   },
   "file_extension": ".py",
   "mimetype": "text/x-python",
   "name": "python",
   "nbconvert_exporter": "python",
   "pygments_lexer": "ipython3",
   "version": "3.5.1"
  }
 },
 "nbformat": 4,
 "nbformat_minor": 0
}
