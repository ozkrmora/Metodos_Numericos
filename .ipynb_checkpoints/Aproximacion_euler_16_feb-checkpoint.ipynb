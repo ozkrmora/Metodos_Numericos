{
 "cells": [
  {
   "cell_type": "code",
   "execution_count": 51,
   "metadata": {
    "collapsed": false
   },
   "outputs": [
    {
     "name": "stdout",
     "output_type": "stream",
     "text": [
      "5\n",
      "0.015795293002684303\n",
      "0.05\n",
      "1.6486979166666667\n",
      "1.6487212707001282\n"
     ]
    }
   ],
   "source": [
    "import math\n",
    "import matplotlib.pyplot as plt\n",
    "\n",
    "Et=[]\n",
    "Ea=[]\n",
    "Es=[]\n",
    "\n",
    "x=1/2\n",
    "n=10\n",
    "\n",
    "def factorial(a):\n",
    "    r=1\n",
    "    for it in range (1,a+1):\n",
    "        r=r*it\n",
    "    return (r)\n",
    "\n",
    "def euler(n,x):\n",
    "    resp=1\n",
    "    Vaa=0\n",
    "    \n",
    "    for i in range (1,n+1):                  \n",
    "        resp=resp+(x**(i))/factorial(i)        \n",
    "        Et.append(math.fabs(((math.exp(x)-resp)/resp)*100))\n",
    "        Ea.append(math.fabs(((resp-Vaa)/resp)*100))  \n",
    "        Es.append(0.5*(10**(2-3)))\n",
    "        Vaa=resp\n",
    "        print ('{0:7} | {1:12} | {2:12} | {3:12} | {4:12} | {5:12} | {6:12}'.format('tiempo','V [t]','V [t] aprox ','Eb','Et','Ea','Es'))   \n",
    "        if Ea[i-1]<=Es[i-1]:            \n",
    "            break                                   \n",
    "\n",
    "    return (resp)       \n",
    "\n",
    "print (euler(n,x))\n",
    "print (math.exp(0.5))\n",
    "\n",
    "\n",
    "\n"
   ]
  },
  {
   "cell_type": "code",
   "execution_count": null,
   "metadata": {
    "collapsed": true
   },
   "outputs": [],
   "source": []
  },
  {
   "cell_type": "code",
   "execution_count": null,
   "metadata": {
    "collapsed": true
   },
   "outputs": [],
   "source": []
  },
  {
   "cell_type": "code",
   "execution_count": null,
   "metadata": {
    "collapsed": true
   },
   "outputs": [],
   "source": []
  }
 ],
 "metadata": {
  "kernelspec": {
   "display_name": "Python 3",
   "language": "python",
   "name": "python3"
  },
  "language_info": {
   "codemirror_mode": {
    "name": "ipython",
    "version": 3
   },
   "file_extension": ".py",
   "mimetype": "text/x-python",
   "name": "python",
   "nbconvert_exporter": "python",
   "pygments_lexer": "ipython3",
   "version": "3.5.1"
  }
 },
 "nbformat": 4,
 "nbformat_minor": 0
}
