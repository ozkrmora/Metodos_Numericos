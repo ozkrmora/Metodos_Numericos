{
 "cells": [
  {
   "cell_type": "code",
   "execution_count": 51,
   "metadata": {
    "collapsed": false
   },
   "outputs": [
    {
     "name": "stdout",
     "output_type": "stream",
     "text": [
      "7.6051792819555954\n",
      "8.303167345235858\n",
      "8.175227389931262\n",
      "8.19676376652272\n",
      "8.193083426139639\n",
      "8.193710753185297\n",
      "8.1936037764334\n",
      "8.193622017596162\n",
      "8.19361890716113\n",
      "8.193619437543173\n",
      "8.193619347103985\n",
      "8.193619362525409\n",
      "8.193619359895795\n",
      "8.193619360344186\n",
      "8.19361936026773\n",
      "8.193619360280767\n",
      "8.193619360278541\n",
      "8.193619360278923\n",
      "8.193619360278857\n",
      "8.19361936027887\n",
      "8.193619360278866\n",
      "8.193619360278868\n",
      "8.193619360278866\n",
      "8.193619360278868\n",
      "8.193619360278866\n",
      "8.193619360278868\n",
      "8.193619360278866\n",
      "8.193619360278868\n",
      "8.193619360278866\n",
      "8.193619360278868\n",
      "Raiz por newton t 8.193619360278868\n"
     ]
    }
   ],
   "source": [
    "import math\n",
    "\n",
    "def abc(t):\n",
    "    return (95*math.sin(math.radians(25))*t )-((0.5)*(9.8)*(t**2))\n",
    "\n",
    "def newton():\n",
    "    j=0\n",
    "    \n",
    "    x1=7\n",
    "    x=15\n",
    "    while (j<30) :\n",
    "        x= x- ((abc(x)*(x1-x))/(abc(x1)-abc(x)))        \n",
    "        print (x)\n",
    "        j=j+1\n",
    "        \n",
    "    return (x)\n",
    "\n",
    "print ('Raiz por newton t',newton())\n",
    "\n",
    "    \n"
   ]
  },
  {
   "cell_type": "code",
   "execution_count": null,
   "metadata": {
    "collapsed": false
   },
   "outputs": [],
   "source": []
  },
  {
   "cell_type": "code",
   "execution_count": null,
   "metadata": {
    "collapsed": false
   },
   "outputs": [],
   "source": []
  },
  {
   "cell_type": "code",
   "execution_count": null,
   "metadata": {
    "collapsed": true
   },
   "outputs": [],
   "source": []
  }
 ],
 "metadata": {
  "kernelspec": {
   "display_name": "Python 3",
   "language": "python",
   "name": "python3"
  },
  "language_info": {
   "codemirror_mode": {
    "name": "ipython",
    "version": 3
   },
   "file_extension": ".py",
   "mimetype": "text/x-python",
   "name": "python",
   "nbconvert_exporter": "python",
   "pygments_lexer": "ipython3",
   "version": "3.5.1"
  }
 },
 "nbformat": 4,
 "nbformat_minor": 0
}
