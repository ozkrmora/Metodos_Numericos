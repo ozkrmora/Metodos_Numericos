{
 "cells": [
  {
   "cell_type": "code",
   "execution_count": 2,
   "metadata": {
    "collapsed": false
   },
   "outputs": [
    {
     "name": "stdout",
     "output_type": "stream",
     "text": [
      "8.032634359525279\n",
      "0.8883331918654243\n",
      "0.09872711987564767\n",
      "Raiz por newton  0.567703214235785\n"
     ]
    }
   ],
   "source": [
    "import math\n",
    "\n",
    "Vv=0.56714329\n",
    "\n",
    "\n",
    "def abc(c):\n",
    "    vta=-c+math.exp(-c)\n",
    "    return (vta)\n",
    "\n",
    "def newton():\n",
    "    j=0\n",
    "    \n",
    "    x1=0\n",
    "    x=1\n",
    "    while (j<10) :\n",
    "        \n",
    "        x= x- ((abc(x)*(x1-x))/(abc(x1)-abc(x)))        \n",
    "        Et=math.fabs(100*((Vv-x)/Vv))\n",
    "        print (Et)\n",
    "        if(Et<0.1):break\n",
    "        j=j+1\n",
    "        \n",
    "    return (x)\n",
    "    \n",
    "print ('Raiz por newton ',newton())\n",
    "    \n"
   ]
  },
  {
   "cell_type": "code",
   "execution_count": null,
   "metadata": {
    "collapsed": false
   },
   "outputs": [],
   "source": []
  },
  {
   "cell_type": "code",
   "execution_count": null,
   "metadata": {
    "collapsed": false
   },
   "outputs": [],
   "source": []
  },
  {
   "cell_type": "code",
   "execution_count": null,
   "metadata": {
    "collapsed": true
   },
   "outputs": [],
   "source": []
  }
 ],
 "metadata": {
  "kernelspec": {
   "display_name": "Python 3",
   "language": "python",
   "name": "python3"
  },
  "language_info": {
   "codemirror_mode": {
    "name": "ipython",
    "version": 3
   },
   "file_extension": ".py",
   "mimetype": "text/x-python",
   "name": "python",
   "nbconvert_exporter": "python",
   "pygments_lexer": "ipython3",
   "version": "3.5.1"
  }
 },
 "nbformat": 4,
 "nbformat_minor": 0
}
