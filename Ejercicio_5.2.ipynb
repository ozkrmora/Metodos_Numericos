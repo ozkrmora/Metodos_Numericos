{
 "cells": [
  {
   "cell_type": "code",
   "execution_count": 2,
   "metadata": {
    "collapsed": false
   },
   "outputs": [
    {
     "name": "stdout",
     "output_type": "stream",
     "text": [
      "100.0\n",
      "100.0\n",
      "33.33333333333333\n",
      "14.285714285714285\n",
      "7.6923076923076925\n",
      "biseccion:  0.40625\n"
     ]
    }
   ],
   "source": [
    "import math\n",
    "import matplotlib.pyplot as plt\n",
    "\n",
    "\n",
    "Et=[]\n",
    "Ea=[]\n",
    "\n",
    "i=0\n",
    "a,b,c,d=5,-5,6,-2\n",
    "\n",
    "x=[]\n",
    "y=[]\n",
    "\n",
    "def abc(x):\n",
    "    vta=(a*(x**3))+(b*(x**2))+(c*(x)+d)\n",
    "    return (vta)\n",
    "\n",
    "def test(a,b):\n",
    "    o=abc(a)*abc(b)    \n",
    "    if o<0:\n",
    "        return (1)\n",
    "    if o>0:\n",
    "        return (2)    \n",
    "        \n",
    "def biseccion():\n",
    "    t=0\n",
    "    xl=0\n",
    "    xu=1\n",
    "    xr=0.0\n",
    "    Va=0\n",
    "    j=0\n",
    "    while (True):            \n",
    "        xr=(xl+xu)/2\n",
    "        h=test(xl,xu)\n",
    "        if h==1:            \n",
    "            h2=test(xl,xr)\n",
    "            if h2<2:\n",
    "                xu=xr\n",
    "            else:\n",
    "                xl=xr    \n",
    "                \n",
    "        Ea.append(math.fabs(100*((xr-Va)/xr)))#Error relativo porcentual aproximado\n",
    "        print (Ea[j])\n",
    "        if Ea[j]<10: \n",
    "            break\n",
    "            \n",
    "        j=j+1\n",
    "        Va=xr\n",
    "        \n",
    "    return (xr)\n",
    "\n",
    "while i<2:\n",
    "    y.append(abc(i))\n",
    "    x.append(i)\n",
    "    i=i+0.2\n",
    "\n",
    "print ('biseccion: ',biseccion())\n",
    "\n",
    "\n",
    "plt.plot(x,y,'b--',)\n",
    "plt.grid(True)\n",
    "\n",
    "plt.xlabel('Iteraciones')\n",
    "plt.ylabel('f(i)')\n",
    "\n",
    "plt.axis([0,1,-2,2])\n",
    "plt.show() "
   ]
  },
  {
   "cell_type": "code",
   "execution_count": null,
   "metadata": {
    "collapsed": false
   },
   "outputs": [],
   "source": []
  },
  {
   "cell_type": "code",
   "execution_count": null,
   "metadata": {
    "collapsed": false
   },
   "outputs": [],
   "source": []
  },
  {
   "cell_type": "code",
   "execution_count": null,
   "metadata": {
    "collapsed": true
   },
   "outputs": [],
   "source": []
  }
 ],
 "metadata": {
  "kernelspec": {
   "display_name": "Python 3",
   "language": "python",
   "name": "python3"
  },
  "language_info": {
   "codemirror_mode": {
    "name": "ipython",
    "version": 3
   },
   "file_extension": ".py",
   "mimetype": "text/x-python",
   "name": "python",
   "nbconvert_exporter": "python",
   "pygments_lexer": "ipython3",
   "version": "3.5.1"
  }
 },
 "nbformat": 4,
 "nbformat_minor": 0
}
