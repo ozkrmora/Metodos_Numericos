{
 "cells": [
  {
   "cell_type": "code",
   "execution_count": 1,
   "metadata": {
    "collapsed": false
   },
   "outputs": [],
   "source": [
    "import math\n",
    "import matplotlib.pyplot as plt\n",
    "import numpy as np\n",
    "\n",
    "g = 9.8\n",
    "m = 68.1\n",
    "c =12.5\n",
    "a=1.0\n",
    "msg='Hola mundo'\n",
    "\n",
    "y=[] \n",
    "x=[]\n",
    "\n",
    "it = 2;\n",
    "\n",
    "def abc(g,m,c,i):\n",
    " vta=(((g*m)/c)*(1-math.exp(-(c/m)*i)))\n",
    " return (vta)\n",
    "\n",
    "def abc2(g,m,c,i,it):\n",
    " a=abc(g,m,c,i*it)\n",
    " plt.plot(i*it,a,'ro') \n",
    " return(a+(g-((c/m)*a))*((i*it)+it-(i*it)))\n",
    "\n",
    "for i in range(0,60):\n",
    " y.append(abc2(g,m,c,i,it))\n",
    " x.append(i*it)\n",
    "    \n",
    "plt.plot(x,y,'b-')\n",
    "plt.xlabel('Tiempo s')\n",
    "plt.ylabel('Velocidad m/s')\n",
    "plt.axis([0,60,0,60])\n",
    "plt.show()"
   ]
  },
  {
   "cell_type": "code",
   "execution_count": null,
   "metadata": {
    "collapsed": true
   },
   "outputs": [],
   "source": []
  },
  {
   "cell_type": "code",
   "execution_count": null,
   "metadata": {
    "collapsed": true
   },
   "outputs": [],
   "source": []
  },
  {
   "cell_type": "code",
   "execution_count": null,
   "metadata": {
    "collapsed": true
   },
   "outputs": [],
   "source": []
  },
  {
   "cell_type": "code",
   "execution_count": null,
   "metadata": {
    "collapsed": true
   },
   "outputs": [],
   "source": []
  }
 ],
 "metadata": {
  "kernelspec": {
   "display_name": "Python 3",
   "language": "python",
   "name": "python3"
  },
  "language_info": {
   "codemirror_mode": {
    "name": "ipython",
    "version": 3
   },
   "file_extension": ".py",
   "mimetype": "text/x-python",
   "name": "python",
   "nbconvert_exporter": "python",
   "pygments_lexer": "ipython3",
   "version": "3.5.1"
  }
 },
 "nbformat": 4,
 "nbformat_minor": 0
}
