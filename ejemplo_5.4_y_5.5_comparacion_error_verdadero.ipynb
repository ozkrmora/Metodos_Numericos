{
 "cells": [
  {
   "cell_type": "code",
   "execution_count": 1,
   "metadata": {
    "collapsed": false
   },
   "outputs": [
    {
     "name": "stdout",
     "output_type": "stream",
     "text": [
      "falsa posicion:  14.780203831685947\n",
      "biseccion:  14.779296875\n"
     ]
    }
   ],
   "source": [
    "import math\n",
    "import matplotlib.pyplot as plt\n",
    "\n",
    "g = 9.8\n",
    "m = 68.1\n",
    "\n",
    "v=40.0\n",
    "Vv=14.7808018\n",
    "\n",
    "Et=[]\n",
    "Et2=[]\n",
    "\n",
    "Ea=[]\n",
    "Ea2=[]\n",
    "\n",
    "x=[]\n",
    "x2=[]\n",
    "\n",
    "def abc(c):\n",
    "    vta=( ((g*m)/c)*(1-math.exp(-(c/m)*10.0)))-v\n",
    "    return (vta)\n",
    "\n",
    "def test(a,b):\n",
    "    o=abc(a)*abc(b)    \n",
    "    if o<0:\n",
    "        return (1)\n",
    "    if o>0:\n",
    "        return (2)    \n",
    "        \n",
    "def biseccion():\n",
    "    t=0\n",
    "    xl=12\n",
    "    xu=16\n",
    "    xr=0.0\n",
    "    Va=0\n",
    "    j=0\n",
    "    while (j<11):            \n",
    "        xr=(xl+xu)/2\n",
    "        h=test(xl,xu)\n",
    "        if h==1:            \n",
    "            h2=test(xl,xr)\n",
    "            if h2<2:\n",
    "                xu=xr\n",
    "            else:\n",
    "                xl=xr    \n",
    "        \n",
    "        Et2.append(math.fabs(100*((Vv-xr)/Vv)))#Error relativo porcentual verdadero\n",
    "        Ea2.append(math.fabs(100*((xr-Va)/xr)))#Error relativo porcentual aproximado\n",
    "        x2.append(j+1)\n",
    "               \n",
    "        if Ea2[j]<0.5: \n",
    "            #break\n",
    "            if t==0:\n",
    "                t=1\n",
    "                plt.plot(j+1,Et2[j],'ro',label = \"Ea<Es\")\n",
    "        \n",
    "        j=j+1\n",
    "        Va=xr\n",
    "        \n",
    "    return (xr)\n",
    "\n",
    "def falsa_posicion():\n",
    "    t=0\n",
    "    xl=12.0\n",
    "    xu=16.0\n",
    "    xr=0.0\n",
    "    Va=0 #Valor anterior\n",
    "    j=0\n",
    "    while (j<11):            \n",
    "        \n",
    "        xr=xu-(((abc(xu))*(xl-xu))/((abc(xl)-(abc(xu)))))\n",
    "        h=test(xl,xu)\n",
    "        \n",
    "        if h==1:               \n",
    "            h2=test(xl,xr)\n",
    "            if h2<2:\n",
    "                xu=xr\n",
    "            else:\n",
    "                xl=xr            \n",
    "        \n",
    "        Et.append(math.fabs(100*((Vv-xr)/Vv)))#Error relativo porcentual verdadero\n",
    "        Ea.append(math.fabs(100*((xr-Va)/xr)))#Error relativo porcentual aproximado\n",
    "        x.append(j+1)\n",
    "                \n",
    "        if Ea[j]<0.5: \n",
    "            #break\n",
    "            if t==0:\n",
    "                t=1\n",
    "                plt.plot(j+1,Et[j],'ro')\n",
    "            \n",
    "        j=j+1\n",
    "        Va=xr\n",
    "        \n",
    "    return (xr)\n",
    "    \n",
    "print ('falsa posicion: ',falsa_posicion())\n",
    "print ('biseccion: ',biseccion())\n",
    "\n",
    "\n",
    "plt.plot(x,Et,'b--',label = \"fp\")\n",
    "plt.plot(x2,Et2,'k--',label = \"Bi\")\n",
    "\n",
    "plt.legend(loc=\"upper left\") \n",
    "plt.grid(True)\n",
    "\n",
    "plt.xlabel('Iteraciones')\n",
    "plt.ylabel('Error Et')\n",
    "\n",
    "plt.axis([0,10,-1,6])\n",
    "plt.show() "
   ]
  },
  {
   "cell_type": "code",
   "execution_count": null,
   "metadata": {
    "collapsed": false
   },
   "outputs": [],
   "source": []
  },
  {
   "cell_type": "code",
   "execution_count": null,
   "metadata": {
    "collapsed": false
   },
   "outputs": [],
   "source": []
  },
  {
   "cell_type": "code",
   "execution_count": null,
   "metadata": {
    "collapsed": true
   },
   "outputs": [],
   "source": []
  }
 ],
 "metadata": {
  "kernelspec": {
   "display_name": "Python 3",
   "language": "python",
   "name": "python3"
  },
  "language_info": {
   "codemirror_mode": {
    "name": "ipython",
    "version": 3
   },
   "file_extension": ".py",
   "mimetype": "text/x-python",
   "name": "python",
   "nbconvert_exporter": "python",
   "pygments_lexer": "ipython3",
   "version": "3.5.1"
  }
 },
 "nbformat": 4,
 "nbformat_minor": 0
}
