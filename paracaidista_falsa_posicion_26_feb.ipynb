{
 "cells": [
  {
   "cell_type": "code",
   "execution_count": 6,
   "metadata": {
    "collapsed": false
   },
   "outputs": [
    {
     "name": "stdout",
     "output_type": "stream",
     "text": [
      "i=  0 xl=  12.0   xu=  16.0   xr=  14.911303179105778\n",
      "i=  1 xl=  12.0   xu=  14.911303179105778   xr=  14.794192783301051\n",
      "i=  2 xl=  12.0   xu=  14.794192783301051   xr=  14.781695337923324\n",
      "i=  3 xl=  12.0   xu=  14.781695337923324   xr=  14.780362843005989\n",
      "i=  4 xl=  12.0   xu=  14.780362843005989   xr=  14.780220783905541\n",
      "i=  5 xl=  12.0   xu=  14.780220783905541   xr=  14.780205638942894\n",
      "i=  6 xl=  12.0   xu=  14.780205638942894   xr=  14.780204024335681\n",
      "la raiz es:  14.780204024335681\n"
     ]
    }
   ],
   "source": [
    "import math\n",
    "import matplotlib.pyplot as plt\n",
    "\n",
    "g = 9.8\n",
    "m = 68.1\n",
    "\n",
    "t=10.0\n",
    "v=40.0\n",
    "j=0\n",
    "\n",
    "xl=12.0\n",
    "xu=16.0\n",
    "xr=0.0\n",
    "\n",
    "x1=[]\n",
    "x2=[]\n",
    "\n",
    "y=[]\n",
    "x=[]\n",
    "\n",
    "def abc(c):\n",
    " vta=( ((9.8*68.1)/c)*(1-math.exp(-(c/68.1)*10.0)))-40.0 \n",
    " return (vta)\n",
    "\n",
    "def test(a,b):\n",
    "    o=abc(a)*abc(b)    \n",
    "    if o<0:\n",
    "        return (1)\n",
    "    if o>0:\n",
    "        return (2)\n",
    "    if o==0:\n",
    "        return (3)\n",
    "    \n",
    "for i in range(0,25):\n",
    "    if i>3 & i<20:\n",
    "        a=0.0+i\n",
    "        y.append(abc(a))\n",
    "        x.append(a)\n",
    "    x1.append(0)   \n",
    "    x2.append(i)      \n",
    "    \n",
    "\n",
    "while (j<7):            \n",
    "    xr=xu-(((abc(xu))*(xl-xu))/((abc(xl)-(abc(xu)))))\n",
    "    h=test(xl,xu)\n",
    "    if h==1:\n",
    "        print ('i= ',j,'xl= ',xl,'  xu= ',xu,'  xr= ',xr)        \n",
    "        h2=test(xl,xr)\n",
    "        if h2<2:\n",
    "            xu=xr\n",
    "        else:\n",
    "            xl=xr    \n",
    "    j=j+1\n",
    "        \n",
    "print ('la raiz es: ',xr)        \n",
    "\n",
    "plt.plot(x2,x1,'k')\n",
    "plt.plot(x,y,'b-')\n",
    "plt.xlabel('C')\n",
    "plt.ylabel('f(c)')\n",
    "plt.axis([0,25,-10,40])\n",
    "plt.show()    \n",
    "    "
   ]
  },
  {
   "cell_type": "code",
   "execution_count": null,
   "metadata": {
    "collapsed": true
   },
   "outputs": [],
   "source": []
  },
  {
   "cell_type": "code",
   "execution_count": null,
   "metadata": {
    "collapsed": false
   },
   "outputs": [],
   "source": []
  }
 ],
 "metadata": {
  "kernelspec": {
   "display_name": "Python 3",
   "language": "python",
   "name": "python3"
  },
  "language_info": {
   "codemirror_mode": {
    "name": "ipython",
    "version": 3
   },
   "file_extension": ".py",
   "mimetype": "text/x-python",
   "name": "python",
   "nbconvert_exporter": "python",
   "pygments_lexer": "ipython3",
   "version": "3.5.1"
  }
 },
 "nbformat": 4,
 "nbformat_minor": 0
}
