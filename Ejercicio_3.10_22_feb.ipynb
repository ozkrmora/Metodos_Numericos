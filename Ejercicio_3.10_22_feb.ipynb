{
 "cells": [
  {
   "cell_type": "code",
   "execution_count": 34,
   "metadata": {
    "collapsed": false
   },
   "outputs": [
    {
     "name": "stdout",
     "output_type": "stream",
     "text": [
      "En base a la formula 3.12\n",
      "x1 =  5000.0  y x2=  0.0019999999999527063\n",
      " \n",
      "En base a la formula 3.13\n",
      "x1 =  5000.000000118234  y x2=  0.002\n",
      "\n",
      "\n",
      "En base a la formula 3.12\n",
      "x1 =  5000.0  y x2=  0.002\n",
      " \n",
      "En base a la formula 3.13\n",
      "x1 =  5000.0  y x2=  0.002\n"
     ]
    }
   ],
   "source": [
    "import math\n",
    "\n",
    "a=1\n",
    "b=-5000.002\n",
    "c=10\n",
    "\n",
    "#Calculo real de ecuacion basandose en (3.12)\n",
    "respA =(-b + math.sqrt(b**(2)-4*a*c))/2*a\n",
    "respB =(-b - math.sqrt(b**(2)-4*a*c))/2*a\n",
    "\n",
    "#Calculo real de ecuacion basandose en (3.13)\n",
    "respAb =-2*c/(b + math.sqrt(b**(2)-4*a*c))\n",
    "respBb =-2*c/(b - math.sqrt(b**(2)-4*a*c))\n",
    "\n",
    "print ('En base a la formula 3.12')\n",
    "print ('x1 = ', respA,' y x2= ', respB)\n",
    "print(' ')\n",
    "print ('En base a la formula 3.13')\n",
    "print ('x1 = ', respAb,' y x2= ', respBb)\n",
    "\n",
    "#Con corte de 5 digitos\n",
    "\n",
    "#Calculo real de ecuacion basandose en (3.12)\n",
    "respA2 =(-b + round(math.sqrt(b**(2)-4*a*c),5))/2*a\n",
    "respB2 =(-b - round(math.sqrt(b**(2)-4*a*c),5))/2*a\n",
    "\n",
    "#Calculo real de ecuacion basandose en (3.13)\n",
    "respAb2 =-2*c/(b + round(math.sqrt(b**(2)-4*a*c),5))\n",
    "respBb2 =-2*c/(b - round(math.sqrt(b**(2)-4*a*c),5))\n",
    "print ('')\n",
    "print ('')\n",
    "print ('En base a la formula 3.12')\n",
    "print ('x1 = ', respA2,' y x2= ', round(respB2,5))\n",
    "print(' ')\n",
    "print ('En base a la formula 3.13')\n",
    "print ('x1 = ', round(respAb2,5),' y x2= ', round(respBb2,5))\n"
   ]
  },
  {
   "cell_type": "code",
   "execution_count": null,
   "metadata": {
    "collapsed": true
   },
   "outputs": [],
   "source": []
  },
  {
   "cell_type": "code",
   "execution_count": null,
   "metadata": {
    "collapsed": true
   },
   "outputs": [],
   "source": []
  },
  {
   "cell_type": "code",
   "execution_count": null,
   "metadata": {
    "collapsed": true
   },
   "outputs": [],
   "source": []
  }
 ],
 "metadata": {
  "kernelspec": {
   "display_name": "Python 3",
   "language": "python",
   "name": "python3"
  },
  "language_info": {
   "codemirror_mode": {
    "name": "ipython",
    "version": 3
   },
   "file_extension": ".py",
   "mimetype": "text/x-python",
   "name": "python",
   "nbconvert_exporter": "python",
   "pygments_lexer": "ipython3",
   "version": "3.5.1"
  }
 },
 "nbformat": 4,
 "nbformat_minor": 0
}
