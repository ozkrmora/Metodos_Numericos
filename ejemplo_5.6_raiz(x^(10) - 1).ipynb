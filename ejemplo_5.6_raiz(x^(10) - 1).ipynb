{
 "cells": [
  {
   "cell_type": "code",
   "execution_count": 1,
   "metadata": {
    "collapsed": false
   },
   "outputs": [
    {
     "name": "stdout",
     "output_type": "stream",
     "text": [
      "Para 11 iteraciones\n",
      "falsa posicion:  0.9965725090161868\n",
      "biseccion:  0.9999999997206033\n"
     ]
    }
   ],
   "source": [
    "import math\n",
    "import matplotlib.pyplot as plt\n",
    "\n",
    "lm=30#numero de iteraciones permitidas\n",
    "Vv=1\n",
    "\n",
    "Et=[]\n",
    "Et2=[]\n",
    "\n",
    "Ea=[]\n",
    "Ea2=[]\n",
    "\n",
    "x=[]\n",
    "x2=[]\n",
    "\n",
    "def abc(c):\n",
    "    vta = c**(10)-1\n",
    "    return (vta)\n",
    "\n",
    "def test(a,b):\n",
    "    o=abc(a)*abc(b)    \n",
    "    if o<0:\n",
    "        return (1)\n",
    "    if o>0:\n",
    "        return (2)    \n",
    "        \n",
    "def biseccion():\n",
    "    t=0\n",
    "    xl=0\n",
    "    xu=1.3\n",
    "    xr=0\n",
    "    Va=0\n",
    "    j=0\n",
    "    while (j<lm):            \n",
    "        xr=(xl+xu)/2\n",
    "        h=test(xl,xu)\n",
    "        if h==1:            \n",
    "            h2=test(xl,xr)\n",
    "            if h2<2:\n",
    "                xu=xr\n",
    "            else:\n",
    "                xl=xr    \n",
    "        \n",
    "        Et2.append(math.fabs(100*((Vv-xr)/Vv)))#Error relativo porcentual verdadero\n",
    "        Ea2.append(math.fabs(100*((xr-Va)/xr)))#Error relativo porcentual aproximado\n",
    "        x2.append(j+1)\n",
    "               \n",
    "        if Ea2[j]<0.5: \n",
    "            #break\n",
    "            if t==0:\n",
    "                t=1\n",
    "                plt.plot(j+1,Et2[j],'ro',label = \"Ea<Es\")\n",
    "        \n",
    "        j=j+1\n",
    "        Va=xr\n",
    "        \n",
    "    return (xr)\n",
    "\n",
    "def falsa_posicion():\n",
    "    t=0\n",
    "    xl=0\n",
    "    xu=1.3\n",
    "    xr=0\n",
    "    Va=0 #Valor anterior\n",
    "    j=0\n",
    "    while (j<lm):            \n",
    "        \n",
    "        xr=xu-(((abc(xu))*(xl-xu))/((abc(xl)-(abc(xu)))))\n",
    "        h=test(xl,xu)\n",
    "        \n",
    "        if h==1:               \n",
    "            h2=test(xl,xr)\n",
    "            if h2<2:\n",
    "                xu=xr\n",
    "            else:\n",
    "                xl=xr            \n",
    "        \n",
    "        Et.append(math.fabs(100*((Vv-xr)/Vv)))#Error relativo porcentual verdadero\n",
    "        Ea.append(math.fabs(100*((xr-Va)/xr)))#Error relativo porcentual aproximado\n",
    "        x.append(j+1)\n",
    "                \n",
    "        if Ea[j]<0.5: \n",
    "            #break\n",
    "            if t==0:\n",
    "                t=1\n",
    "                plt.plot(j+1,Et[j],'ro')\n",
    "            \n",
    "        j=j+1\n",
    "        Va=xr\n",
    "        \n",
    "    return (xr)\n",
    "\n",
    "print ('Para 11 iteraciones')\n",
    "print ('falsa posicion: ',falsa_posicion())\n",
    "print ('biseccion: ',biseccion())\n",
    "\n",
    "\n",
    "plt.plot(x,Et,'b--',label = \"fp\")\n",
    "plt.plot(x2,Et2,'k--',label = \"Bi\")\n",
    "\n",
    "plt.legend(loc=\"upper left\") \n",
    "plt.grid(True)\n",
    "\n",
    "plt.xlabel('Iteraciones')\n",
    "plt.ylabel('Error Et')\n",
    "\n",
    "plt.axis([0,30,-1,100])\n",
    "plt.show() "
   ]
  },
  {
   "cell_type": "code",
   "execution_count": null,
   "metadata": {
    "collapsed": false
   },
   "outputs": [],
   "source": []
  },
  {
   "cell_type": "code",
   "execution_count": null,
   "metadata": {
    "collapsed": false
   },
   "outputs": [],
   "source": []
  },
  {
   "cell_type": "code",
   "execution_count": null,
   "metadata": {
    "collapsed": true
   },
   "outputs": [],
   "source": []
  }
 ],
 "metadata": {
  "kernelspec": {
   "display_name": "Python 3",
   "language": "python",
   "name": "python3"
  },
  "language_info": {
   "codemirror_mode": {
    "name": "ipython",
    "version": 3
   },
   "file_extension": ".py",
   "mimetype": "text/x-python",
   "name": "python",
   "nbconvert_exporter": "python",
   "pygments_lexer": "ipython3",
   "version": "3.5.1"
  }
 },
 "nbformat": 4,
 "nbformat_minor": 0
}
