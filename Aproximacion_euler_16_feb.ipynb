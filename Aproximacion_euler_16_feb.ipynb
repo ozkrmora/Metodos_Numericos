{
 "cells": [
  {
   "cell_type": "code",
   "execution_count": 62,
   "metadata": {
    "collapsed": false
   },
   "outputs": [
    {
     "name": "stdout",
     "output_type": "stream",
     "text": [
      "terminos   | e^x aprox            | Et                   | Ea                  \n",
      "         1 |                  1.0 |    64.87212707001282 |                100.0\n",
      "         2 |                  1.5 |    9.914751380008546 |    33.33333333333333\n",
      "         3 |                1.625 |   1.4597705046232736 |   7.6923076923076925\n",
      "         4 |   1.6458333333333333 |  0.17546961215969226 |   1.2658227848101222\n",
      "         5 |            1.6484375 |  0.01721452588455396 |    0.157977883096371\n",
      "         6 |   1.6486979166666667 | 0.0014165137970671684 | 0.015795293002684303\n",
      "1.6486979166666667\n",
      "1.6487212707001282\n"
     ]
    }
   ],
   "source": [
    "import math\n",
    "\n",
    "Et=[]\n",
    "Ea=[]\n",
    "Es=[]\n",
    "\n",
    "x=1/2\n",
    "n=10\n",
    "\n",
    "def factorial(a):\n",
    "    r=1\n",
    "    for it in range (1,a+1):\n",
    "        r=r*it\n",
    "    return (r)\n",
    "\n",
    "def euler(n,x):\n",
    "    resp=0\n",
    "    Vaa=0\n",
    "    print ('{0:10} | {1:20} | {2:20} | {3:20}'.format('terminos','e^x aprox','Et ','Ea')) \n",
    "    for i in range (0,n+1):                  \n",
    "        resp=resp+(x**(i))/factorial(i)        \n",
    "        Et.append(math.fabs(((math.exp(x)-resp)/resp)*100))\n",
    "        Ea.append(math.fabs(((resp-Vaa)/resp)*100))  \n",
    "        Es.append(0.5*(10**(2-3)))\n",
    "        Vaa=resp\n",
    "        print ('{0:10} | {1:20} | {2:20} | {3:20}'.format(i+1,resp,Et[i],Ea[i]))   \n",
    "        if Ea[i]<=Es[i]:            \n",
    "            break                                   \n",
    "\n",
    "    return (resp)       \n",
    "\n",
    "print (euler(n,x))\n",
    "print (math.exp(0.5))\n",
    "\n",
    "\n",
    "\n"
   ]
  },
  {
   "cell_type": "code",
   "execution_count": null,
   "metadata": {
    "collapsed": true
   },
   "outputs": [],
   "source": []
  },
  {
   "cell_type": "code",
   "execution_count": null,
   "metadata": {
    "collapsed": true
   },
   "outputs": [],
   "source": []
  },
  {
   "cell_type": "code",
   "execution_count": null,
   "metadata": {
    "collapsed": true
   },
   "outputs": [],
   "source": []
  }
 ],
 "metadata": {
  "kernelspec": {
   "display_name": "Python 3",
   "language": "python",
   "name": "python3"
  },
  "language_info": {
   "codemirror_mode": {
    "name": "ipython",
    "version": 3
   },
   "file_extension": ".py",
   "mimetype": "text/x-python",
   "name": "python",
   "nbconvert_exporter": "python",
   "pygments_lexer": "ipython3",
   "version": "3.5.1"
  }
 },
 "nbformat": 4,
 "nbformat_minor": 0
}
