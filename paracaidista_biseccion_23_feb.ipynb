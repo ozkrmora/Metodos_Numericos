{
 "cells": [
  {
   "cell_type": "code",
   "execution_count": 5,
   "metadata": {
    "collapsed": false
   },
   "outputs": [
    {
     "name": "stdout",
     "output_type": "stream",
     "text": [
      "i=  0 xl=  12.0   xu=  16.0   xr=  14.0\n",
      "i=  1 xl=  14.0   xu=  16.0   xr=  15.0\n",
      "i=  2 xl=  14.0   xu=  15.0   xr=  14.5\n",
      "i=  3 xl=  14.5   xu=  15.0   xr=  14.75\n",
      "i=  4 xl=  14.75   xu=  15.0   xr=  14.875\n",
      "i=  5 xl=  14.75   xu=  14.875   xr=  14.8125\n",
      "i=  6 xl=  14.75   xu=  14.8125   xr=  14.78125\n",
      "i=  7 xl=  14.75   xu=  14.78125   xr=  14.765625\n",
      "i=  8 xl=  14.765625   xu=  14.78125   xr=  14.7734375\n",
      "i=  9 xl=  14.7734375   xu=  14.78125   xr=  14.77734375\n",
      "i=  10 xl=  14.77734375   xu=  14.78125   xr=  14.779296875\n",
      "i=  11 xl=  14.779296875   xu=  14.78125   xr=  14.7802734375\n",
      "i=  12 xl=  14.779296875   xu=  14.7802734375   xr=  14.77978515625\n",
      "i=  13 xl=  14.77978515625   xu=  14.7802734375   xr=  14.780029296875\n",
      "i=  14 xl=  14.780029296875   xu=  14.7802734375   xr=  14.7801513671875\n",
      "i=  15 xl=  14.7801513671875   xu=  14.7802734375   xr=  14.78021240234375\n",
      "i=  16 xl=  14.7801513671875   xu=  14.78021240234375   xr=  14.780181884765625\n",
      "la raiz es:  14.780181884765625\n"
     ]
    }
   ],
   "source": [
    "import math\n",
    "import matplotlib.pyplot as plt\n",
    "\n",
    "g = 9.8\n",
    "m = 68.1\n",
    "\n",
    "t=10.0\n",
    "v=40.0\n",
    "j=0\n",
    "\n",
    "xl=12.0\n",
    "xu=16.0\n",
    "xr=0.0\n",
    "\n",
    "x1=[]\n",
    "x2=[]\n",
    "\n",
    "y=[]\n",
    "x=[]\n",
    "\n",
    "def abc(c):\n",
    " vta=( ((9.8*68.1)/c)*(1-math.exp(-(c/68.1)*10.0)))-40.0 \n",
    " return (vta)\n",
    "\n",
    "def test(a,b):\n",
    "    o=abc(a)*abc(b)    \n",
    "    if o<0:\n",
    "        return (1)\n",
    "    if o>0:\n",
    "        return (2)\n",
    "    if o==0:\n",
    "        return (3)\n",
    "    \n",
    "for i in range(0,25):\n",
    "    if i>3 & i<20:\n",
    "        a=0.0+i\n",
    "        y.append(abc(a))\n",
    "        x.append(a)\n",
    "    x1.append(0)   \n",
    "    x2.append(i)      \n",
    "    \n",
    "\n",
    "while (j<17):            \n",
    "    xr=(xl+xu)/2\n",
    "    h=test(xl,xu)\n",
    "    if h==1:\n",
    "        print ('i= ',j,'xl= ',xl,'  xu= ',xu,'  xr= ',xr)        \n",
    "        h2=test(xl,xr)\n",
    "        if h2<2:\n",
    "            xu=xr\n",
    "        else:\n",
    "            xl=xr    \n",
    "    j=j+1\n",
    "        \n",
    "print ('la raiz es: ',xr)        \n",
    "\n",
    "plt.plot(x2,x1,'k')\n",
    "plt.plot(x,y,'b-')\n",
    "plt.xlabel('C')\n",
    "plt.ylabel('f(c)')\n",
    "plt.axis([0,25,-10,40])\n",
    "plt.show()    \n",
    "    "
   ]
  },
  {
   "cell_type": "code",
   "execution_count": null,
   "metadata": {
    "collapsed": true
   },
   "outputs": [],
   "source": []
  },
  {
   "cell_type": "code",
   "execution_count": null,
   "metadata": {
    "collapsed": false
   },
   "outputs": [],
   "source": []
  }
 ],
 "metadata": {
  "kernelspec": {
   "display_name": "Python 3",
   "language": "python",
   "name": "python3"
  },
  "language_info": {
   "codemirror_mode": {
    "name": "ipython",
    "version": 3
   },
   "file_extension": ".py",
   "mimetype": "text/x-python",
   "name": "python",
   "nbconvert_exporter": "python",
   "pygments_lexer": "ipython3",
   "version": "3.5.1"
  }
 },
 "nbformat": 4,
 "nbformat_minor": 0
}
