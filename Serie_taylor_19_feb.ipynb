{
 "cells": [
  {
   "cell_type": "code",
   "execution_count": 2,
   "metadata": {
    "collapsed": false
   },
   "outputs": [
    {
     "name": "stdout",
     "output_type": "stream",
     "text": [
      "orden   | f(xi+1)                   | Et%                       | Ea%                      \n",
      "      0 |                       1.2 |         83.33333333333334 |                     100.0\n",
      "      1 |                      0.95 |         78.94736842105263 |         26.31578947368421\n",
      "      2 |       0.44999999999999996 |        55.555555555555564 |        111.11111111111111\n",
      "      3 |       0.29999999999999993 |        33.333333333333336 |         50.00000000000002\n",
      "      4 |       0.19999999999999996 |                       0.0 |                      50.0\n"
     ]
    }
   ],
   "source": [
    "import math\n",
    "import matplotlib.pyplot as plt\n",
    " \n",
    "def factorial(a):\n",
    "    r=1\n",
    "    for it in range (1,a+1):\n",
    "        r=r*it\n",
    "    return (r)\n",
    "\n",
    "def fx(d,x):\n",
    "    resp=0;\n",
    "    \n",
    "    if d==0:\n",
    "        resp = -0.1*x**(4)-0.15*x**(3)-0.5*x**(2)-0.25*x+1.2        \n",
    "    if d==1:\n",
    "        resp = -0.4*x**(3)-0.45*x**(2)-1*x-0.25        \n",
    "    if d==2:\n",
    "        resp = -1.2*x**(2)-0.9*x-1            \n",
    "    if d==3:\n",
    "        resp = -2.4*x-0.9        \n",
    "    if d==4:\n",
    "        resp = -2.4                \n",
    "    return (resp)\n",
    "\n",
    "def fxaprox():\n",
    "    resp=0\n",
    "    x=0\n",
    "    Vaa=0\n",
    "    h=x+1-x    \n",
    "    for i in range(0,5):\n",
    "        resp=resp+(fx(i,0)/factorial(i))*(h**(i))        \n",
    "        plt.plot(1,resp,'ro')\n",
    "        Ebp=math.fabs(((fx(0,1)-resp)*100)/resp)\n",
    "        Eap=math.fabs((resp-Vaa)/resp)*100\n",
    "        Vaa=resp\n",
    "        print ('{0:7} | {1:25} | {2:25} | {3:25}'.format(i,resp,Ebp,Eap))\n",
    "\n",
    "print ('{0:7} | {1:25} | {2:25} | {3:25}'.format('orden','f(xi+1)','Et%','Ea%'))\n",
    "fxaprox();        \n",
    "\n",
    "\n",
    "plt.plot(1,fx(0,0),'k')\n",
    "plt.xlabel('x')\n",
    "plt.ylabel('f(x)')\n",
    "plt.axis([0,2,0,2])\n",
    "plt.show()   \n",
    "    \n",
    "    \n",
    "    \n",
    "\n"
   ]
  },
  {
   "cell_type": "code",
   "execution_count": null,
   "metadata": {
    "collapsed": true
   },
   "outputs": [],
   "source": []
  },
  {
   "cell_type": "code",
   "execution_count": null,
   "metadata": {
    "collapsed": true
   },
   "outputs": [],
   "source": []
  },
  {
   "cell_type": "code",
   "execution_count": null,
   "metadata": {
    "collapsed": true
   },
   "outputs": [],
   "source": []
  }
 ],
 "metadata": {
  "kernelspec": {
   "display_name": "Python 3",
   "language": "python",
   "name": "python3"
  },
  "language_info": {
   "codemirror_mode": {
    "name": "ipython",
    "version": 3
   },
   "file_extension": ".py",
   "mimetype": "text/x-python",
   "name": "python",
   "nbconvert_exporter": "python",
   "pygments_lexer": "ipython3",
   "version": "3.5.1"
  }
 },
 "nbformat": 4,
 "nbformat_minor": 0
}
