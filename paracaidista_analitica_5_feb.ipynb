{
 "cells": [
  {
   "cell_type": "code",
   "execution_count": 1,
   "metadata": {
    "collapsed": false
   },
   "outputs": [
    {
     "name": "stdout",
     "output_type": "stream",
     "text": [
      "0.0\n",
      "8.953182207901257\n",
      "16.404980802870615\n",
      "22.607166909502304\n",
      "27.769291463870154\n",
      "32.06576523242002\n",
      "35.64175156312909\n",
      "38.61807096510561\n",
      "41.09528322582064\n",
      "43.15708498693595\n",
      "44.873137571348394\n",
      "46.30142060418256\n",
      "47.490190948641704\n",
      "48.479613142547706\n",
      "49.30311642251821\n",
      "49.988524185047744\n",
      "50.55899404517091\n",
      "51.033800254117125\n",
      "51.428984911208715\n",
      "51.757899972254805\n",
      "52.031658367074975\n",
      "52.25950946789158\n",
      "52.44915159440041\n",
      "52.606992114011234\n",
      "52.738363925167626\n",
      "52.84770563798676\n",
      "52.93871153991493\n",
      "53.014456413232\n",
      "53.07749942156732\n",
      "53.129970575401444\n"
     ]
    }
   ],
   "source": [
    "import math\n",
    "g = 9.8\n",
    "m = 68.1\n",
    "c =12.5\n",
    "\n",
    "def abc(i):\n",
    " vta=(((9.8*68.1)/12.5)*(1-math.exp(-(12.5/68.1)*i)))\n",
    " print (vta)          \n",
    "\n",
    "for i in range(0,30):\n",
    " abc(i)\n",
    "    "
   ]
  },
  {
   "cell_type": "code",
   "execution_count": null,
   "metadata": {
    "collapsed": true
   },
   "outputs": [],
   "source": []
  },
  {
   "cell_type": "code",
   "execution_count": null,
   "metadata": {
    "collapsed": false
   },
   "outputs": [],
   "source": []
  }
 ],
 "metadata": {
  "kernelspec": {
   "display_name": "Python 3",
   "language": "python",
   "name": "python3"
  },
  "language_info": {
   "codemirror_mode": {
    "name": "ipython",
    "version": 3
   },
   "file_extension": ".py",
   "mimetype": "text/x-python",
   "name": "python",
   "nbconvert_exporter": "python",
   "pygments_lexer": "ipython3",
   "version": "3.5.1"
  }
 },
 "nbformat": 4,
 "nbformat_minor": 0
}
