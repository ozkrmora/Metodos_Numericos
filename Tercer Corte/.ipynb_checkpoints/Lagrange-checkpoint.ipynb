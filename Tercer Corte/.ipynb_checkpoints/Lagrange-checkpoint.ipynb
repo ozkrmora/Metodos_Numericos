{
 "cells": [
  {
   "cell_type": "code",
   "execution_count": 28,
   "metadata": {
    "collapsed": false
   },
   "outputs": [
    {
     "name": "stdout",
     "output_type": "stream",
     "text": [
      "Ln 2\n",
      "Grado 1 =>  0.46209812037329684\n",
      "Grado 2 =>  0.5658443469009826\n"
     ]
    }
   ],
   "source": [
    "import math\n",
    "import matplotlib.pyplot as plt\n",
    "\n",
    "R=[1,4,6]\n",
    "j=R[0]\n",
    "ejex,ejey,ejey2,ejey3=[],[],[],[] \n",
    "\n",
    "\n",
    "def f(y):\n",
    "    return(math.log(y))    \n",
    "\n",
    "def L(x,a,b,g):\n",
    "    r=1;\n",
    "    for i in range (g):\n",
    "        if(i!=b):            \n",
    "            r*=(x-a[i])/(a[b]-a[i])\n",
    "    return (r)\n",
    "\n",
    "def Fx(x,a,g):\n",
    "    r=0\n",
    "    for i in range (g+1):\n",
    "        r+=(L(x,a,i,g+1)*f(a[i]))\n",
    "    return (r)    \n",
    "\n",
    "print (\"Ln 2\")\n",
    "print (\"Grado 1 => \",Fx(2,R,1))\n",
    "print (\"Grado 2 => \",Fx(2,R,2))\n",
    "\n",
    "while (j<=10):\n",
    "    ejex.append(j)\n",
    "    ejey.append(f(j))    \n",
    "    ejey2.append(Fx(j,R,1))\n",
    "    ejey3.append(Fx(j,R,2))\n",
    "    j+=0.2 \n",
    "    \n",
    "plt.plot(ejex,ejey,'k')\n",
    "plt.plot(ejex,ejey2,'b')\n",
    "plt.plot(ejex,ejey3,'r')\n",
    "plt.plot(R[0],f(R[0]),'ko')\n",
    "plt.plot(R[1],f(R[1]),'ko')\n",
    "plt.plot(R[2],f(R[2]),'ko')\n",
    "plt.axis([0,8,0,2])\n",
    "plt.grid(True)\n",
    "plt.show() \n",
    "    "
   ]
  },
  {
   "cell_type": "code",
   "execution_count": null,
   "metadata": {
    "collapsed": true
   },
   "outputs": [],
   "source": [
    "\n"
   ]
  }
 ],
 "metadata": {
  "kernelspec": {
   "display_name": "Python 3",
   "language": "python",
   "name": "python3"
  },
  "language_info": {
   "codemirror_mode": {
    "name": "ipython",
    "version": 3
   },
   "file_extension": ".py",
   "mimetype": "text/x-python",
   "name": "python",
   "nbconvert_exporter": "python",
   "pygments_lexer": "ipython3",
   "version": "3.5.1"
  }
 },
 "nbformat": 4,
 "nbformat_minor": 0
}
