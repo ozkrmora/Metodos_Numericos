{
 "cells": [
  {
   "cell_type": "markdown",
   "metadata": {},
   "source": [
    "Taller IDN"
   ]
  },
  {
   "cell_type": "code",
   "execution_count": 39,
   "metadata": {
    "collapsed": false
   },
   "outputs": [
    {
     "name": "stdout",
     "output_type": "stream",
     "text": [
      "Implementacion de Regla de Trapecio de un segmento y ejemplo 21.1:\n",
      "\n",
      "Por un solo segmento: 0.1728000000000225\n",
      "error :  1.4677329999999775  %\n",
      "\n",
      "\n",
      "Implementacion de Regla de Trapecio de multiples segmentos y ejemplo 21.2:\n",
      "\n",
      "Por segmentos multiples:  1.0688000000000115\n",
      "error :   0.5717329999999885  %\n"
     ]
    }
   ],
   "source": [
    "#Ejercicios 1 y 2\n",
    "import math\n",
    "x0=0\n",
    "xa=0.8\n",
    "real=1.640533\n",
    "vec=[0.0,0.4,0.8]\n",
    "aux=[]\n",
    "\n",
    "def funcion(x):\n",
    "    return (0.2+(25*x)-(200*(x**2))+(675*(x**3))-(900*(x**4))+(400*(x**5)))\n",
    "\n",
    "def ReglaTrap(h,f0,f1):\n",
    "    return (h*(f0+f1)/2)     \n",
    "\n",
    "def vector():\n",
    "    for j in range(3):\n",
    "        aux.append(funcion(vec[j]))\n",
    "\n",
    "def ReglaTrapMultiple(h,n,f):\n",
    "    sum=f[0]\n",
    "    for i in range (1,n):\n",
    "        sum=sum+(2*f[i])\n",
    "    sum=sum+f[n]\n",
    "    return (h*sum/2)     \n",
    "\n",
    "vector() \n",
    "\n",
    "print (\"Implementacion de Regla de Trapecio de un segmento y ejemplo 21.1:\\n\")\n",
    "print (\"Por un solo segmento:\",(ReglaTrap(0.8,funcion(x0),funcion(xa))))\n",
    "print (\"error : \",real-ReglaTrap(0.8,funcion(x0),funcion(xa)),\" %\")\n",
    "\n",
    "print (\"\\n\\nImplementacion de Regla de Trapecio de multiples segmentos y ejemplo 21.2:\\n\")\n",
    "print (\"Por segmentos multiples: \",(ReglaTrapMultiple(0.4, 2, aux)))\n",
    "print (\"error :  \",real-ReglaTrapMultiple(0.4, 2, aux),\" %\")\n"
   ]
  },
  {
   "cell_type": "code",
   "execution_count": 33,
   "metadata": {
    "collapsed": false
   },
   "outputs": [
    {
     "name": "stdout",
     "output_type": "stream",
     "text": [
      "Implementacion de regal de simpson 1/3 para un segmento y el ejemplo 21.4:\n",
      "El valor por regla de Simpson simple es:  1.3674666666666744\n",
      "error :  16.64497656147884  %\n",
      "\n",
      "Implementacion de regal de simpson 1/3 para multiples segmentos y el ejemplo 21.5:\n",
      " \n",
      "El valor por regla de Simpson de aplicación múltiple es  1.623466666666672\n",
      "error :  1.040291986404911  %\n"
     ]
    }
   ],
   "source": [
    "#Ejercico 3 y 4\n",
    "import math\n",
    "\n",
    "real=1.640533\n",
    "aux,aux2=[],[]\n",
    "\n",
    "def funcion(x):\n",
    "    return (0.2+(25*x)-(200*(x**2))+(675*(x**3))-(900*(x**4))+(400*(x**5)))\n",
    "\n",
    "def vector():\n",
    "    j,k=0,0    \n",
    "    while j<1:\n",
    "        aux.append(funcion(j))\n",
    "        j+=0.2\n",
    "    while k<1:\n",
    "        aux2.append(funcion(k))\n",
    "        k+=0.4\n",
    "        \n",
    "def simp13(h,f0,f1,f2):\n",
    "    return (2*h*(f0+4*f1+f2)/6)    \n",
    "\n",
    "def simp13Multiple(h,n,f):\n",
    "    sum=funcion(0)\n",
    "    for i in range (1,n-1,2):\n",
    "        sum+=4*f[i]+2*f[i+1]\n",
    "    sum+=4*f[n-1]+f[n]\n",
    "    return (h*sum/3)    \n",
    "\n",
    "vector()\n",
    "\n",
    "print (\"Implementacion de regal de simpson 1/3 para un segmento y el ejemplo 21.4:\")\n",
    "print (\"El valor por regla de Simpson simple es: \",(simp13(0.4,aux2[0],aux2[1],aux2[2])))\n",
    "print (\"error : \",(real-simp13(0.4,aux2[0],aux2[1],aux2[2]))*100/real,\" %\")\n",
    "print (\"\\nImplementacion de regal de simpson 1/3 para multiples segmentos y el ejemplo 21.5:\\n \")\n",
    "print (\"El valor por regla de Simpson de aplicación múltiple es \",(simp13Multiple(0.2,4,aux)))\n",
    "print (\"error : \",(real-simp13Multiple(0.2,4,aux))*100/real,\" %\")"
   ]
  },
  {
   "cell_type": "code",
   "execution_count": 55,
   "metadata": {
    "collapsed": false
   },
   "outputs": [
    {
     "name": "stdout",
     "output_type": "stream",
     "text": [
      "Implementacion de regla de simpson 3/8 para un segmento:\n",
      "Valor por regla de Simpson : 0.8464000000000169\n",
      "error :  48.40701162366031  %\n",
      "\n",
      "\n",
      "Implementacion de regla de simpson 3/8 para multiples segmentos:\n",
      "Valor por regla de Simpson : 1.6450771626666796\n",
      "error :  -0.27699306668500806  %\n"
     ]
    }
   ],
   "source": [
    "#Ejercicio 5\n",
    "import math \n",
    "\n",
    "real=1.640533\n",
    "sum=0\n",
    "auxl,aux2=[],[]\n",
    "\n",
    "def funcion(x):\n",
    "    return (0.2+(25*x)-(200*(x**2))+(675*(x**3))-(900*(x**4))+(400*(x**5)))   \n",
    "\n",
    "def vector():\n",
    "    j,k=0,0        \n",
    "    while j<1:\n",
    "        aux.append(funcion(j))\n",
    "        j+=0.8/3\n",
    "    while k<=0.8:\n",
    "        aux2.append(funcion(k))\n",
    "        k+=0.8/5\n",
    "        \n",
    "def Simp38(h,f0,f1,f2,f3):    \n",
    "    return (3*h*(f0+3*(f1+f2)+f3)/8)\n",
    "\n",
    "def ReglaTrap(h,f0,f1):\n",
    "    return (h*(f0+f1)/2) \n",
    "\n",
    "def simp13Multiple(h,n,f):\n",
    "    sum=funcion(0)\n",
    "    for i in range (1,n-1,2):\n",
    "        sum+=4*f[i]+2*f[i+1]\n",
    "    sum+=4*f[n-1]+f[n]\n",
    "    return (h*sum/3) \n",
    "\n",
    "def SimpInt(a,b,n,f):\n",
    "    sum1=0\n",
    "    h=(b-a)/n\n",
    "    if n==1:\n",
    "        sum1=ReglaTrap(h,f[n-1],f[n])\n",
    "    else:\n",
    "        m=n*1.0\n",
    "        odd=(n*1.0/2)-int(n*1.0/2)\n",
    "        if (odd>0 and n>1):\n",
    "            sum1=sum1+Simp38(h,f[n-3],f[n-2],f[n-1],f[n])\n",
    "            m=n-3\n",
    "        if(m>1):\n",
    "            sum1=sum1+simp13Multiple(h,m,f)    \n",
    "    return (sum1)\n",
    "\n",
    "vector()\n",
    "\n",
    "print (\"Implementacion de regla de simpson 3/8 para un segmento:\")\n",
    "print (\"Valor por regla de Simpson :\",(Simp38(0.8/3,aux[0],aux[1],aux[2],aux[3])))\n",
    "print (\"error : \",(real-Simp38(0.8/3,aux[0],aux[1],aux[2],aux[3]))*100/real,\" %\")\n",
    "print (\"\\n\\nImplementacion de regla de simpson 3/8 para multiples segmentos:\")\n",
    "print (\"Valor por regla de Simpson :\",(SimpInt(0.0,0.8,5,aux2)))\n",
    "print (\"error : \",(real-SimpInt(0.0,0.8,5,aux2))*100/real,\" %\")"
   ]
  },
  {
   "cell_type": "code",
   "execution_count": 32,
   "metadata": {
    "collapsed": false
   },
   "outputs": [
    {
     "name": "stdout",
     "output_type": "stream",
     "text": [
      "El valor real de la primera derivada es=  -0.9125\n",
      "\n",
      "Usando diferencias ditvididas finitvas de exactvitvud O(h):\n",
      "\n",
      "Hacia adelante O(h)=>   | Estimacion: -1.155 | Et: 26.541  %\n",
      "Hacia atras O(h)=>   | Estimacion: -0.714 | Et: 21.747  %\n",
      "Centrada O(h^2)=>   | Estimacion: -0.934 | Et: 2.397  %\n",
      "\n",
      "\n",
      "Usando diferencias ditvididas finitvas de exactvitvud O(h^2):\n",
      "\n",
      "Hacia adelante O(h^2)=>   | Estimacion: -0.859 | Et: 5.822  %\n",
      "Hacia atras O(h^2)=>   | Estimacion: -0.878 | Et: 3.767  %\n",
      "Centrada O(h^4)=>   | Estimacion: -0.913 | Et: 0.000  %\n"
     ]
    }
   ],
   "source": [
    "#Ejercicio 6   E9jemplo  23.1\n",
    "import math\n",
    "\n",
    "xi,h=0.5,0.25\n",
    "x,fun=[],[]\n",
    "aux1,aux2,aux3,aux4,aux5,aux6=[],[],[],[],[],[]\n",
    "\n",
    "def funcion(x):\n",
    "    return ((-0.1*(x**4))-(0.15*(x**3))-(0.5*(x**2))-(0.25*x)+1.2)\n",
    "\n",
    "def fDer(x):\n",
    "    return ((-4*0.1*(x**3))-(3*0.15*(x**2))-(2*0.5*x)-(0.25))\n",
    "\n",
    "def error(aprx):\n",
    "    return (math.fabs((fDer(xi)-aprx)*100/fDer(xi)))\n",
    "    \n",
    "\n",
    "def llenar():\n",
    "    z=0\n",
    "    while (z<=1.0):\n",
    "        fun.append(funcion(z))\n",
    "        z+=h\n",
    "    Adelante()\n",
    "    Atras()\n",
    "    centrada()\n",
    "    \n",
    "def Adelante():\n",
    "    f1=(fun[3]-fun[2])/h\n",
    "    f2=(-fun[4]+4*fun[3]-3*fun[2])/(2*h)\n",
    "    aux1.append(f1)\n",
    "    aux1.append(error(f1))\n",
    "    aux2.append(f2)\n",
    "    aux2.append(error(f2))\n",
    "\n",
    "def Atras():\n",
    "    f1=(fun[2]-fun[1])/h\n",
    "    f2=(3*fun[2]-4*fun[1]+fun[0])/(2*h)\n",
    "    aux3.append(f1)\n",
    "    aux3.append(error(f1))\n",
    "    aux4.append(f2)\n",
    "    aux4.append(error(f2))\n",
    "\n",
    "def centrada():\n",
    "    f1=(fun[3]-fun[1])/(2*h)\n",
    "    f2=(-fun[4]+8*fun[3]-8*fun[1]+fun[0])/(12*h)\n",
    "    aux5.append(f1)\n",
    "    aux5.append(error(f1))\n",
    "    aux6.append(f2)\n",
    "    aux6.append(error(f2))\n",
    "\n",
    "llenar()\n",
    "print (\"El valor real de la primera derivada es= \", fDer(xi))\n",
    "print (\"\\nUsando diferencias ditvididas finitvas de exactvitvud O(h):\\n\")\n",
    "print (\"Hacia adelante O(h)=>   | Estimacion: %.3f\"%aux1[0],\"| Et: %.3f\"%aux1[1],\" %\")\n",
    "print (\"Hacia atras O(h)=>   | Estimacion: %.3f\"%aux3[0],\"| Et: %.3f\"%aux3[1],\" %\")\n",
    "print (\"Centrada O(h^2)=>   | Estimacion: %.3f\"%aux5[0],\"| Et: %.3f\"%aux5[1],\" %\")\n",
    "\n",
    "print (\"\\n\\nUsando diferencias ditvididas finitvas de exactvitvud O(h^2):\\n\")\n",
    "print (\"Hacia adelante O(h^2)=>   | Estimacion: %.3f\"%aux2[0],\"| Et: %.3f\"%aux2[1],\" %\")\n",
    "print (\"Hacia atras O(h^2)=>   | Estimacion: %.3f\"%aux4[0],\"| Et: %.3f\"%aux4[1],\" %\")\n",
    "print (\"Centrada O(h^4)=>   | Estimacion: %.3f\"%aux6[0],\"| Et: %.3f\"%aux6[1],\" %\")"
   ]
  },
  {
   "cell_type": "code",
   "execution_count": null,
   "metadata": {
    "collapsed": true
   },
   "outputs": [],
   "source": []
  }
 ],
 "metadata": {
  "kernelspec": {
   "display_name": "Python 3",
   "language": "python",
   "name": "python3"
  },
  "language_info": {
   "codemirror_mode": {
    "name": "ipython",
    "version": 3
   },
   "file_extension": ".py",
   "mimetype": "text/x-python",
   "name": "python",
   "nbconvert_exporter": "python",
   "pygments_lexer": "ipython3",
   "version": "3.5.1"
  }
 },
 "nbformat": 4,
 "nbformat_minor": 0
}
