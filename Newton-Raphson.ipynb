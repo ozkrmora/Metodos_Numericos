{
 "cells": [
  {
   "cell_type": "code",
   "execution_count": 8,
   "metadata": {
    "collapsed": false
   },
   "outputs": [
    {
     "name": "stdout",
     "output_type": "stream",
     "text": [
      "11.838858218705182\n",
      "0.1467507096454938\n",
      "2.2034138461420165e-05\n",
      "0.5671431650348622\n"
     ]
    }
   ],
   "source": [
    "import math\n",
    "\n",
    "Vv=0.56714329\n",
    "\n",
    "\n",
    "def abc(c):\n",
    "    vta=-c+math.exp(-c)\n",
    "    return (vta)\n",
    "\n",
    "def abc2(c):\n",
    "    vta=-1-math.exp(-c)\n",
    "    return (vta)\n",
    "\n",
    "def newton():\n",
    "    j=0\n",
    "    x=0\n",
    "    while (j<10) :\n",
    "        \n",
    "        x=x-((abc(x))/(abc2(x)))        \n",
    "        Et=math.fabs(100*((Vv-x)/Vv))\n",
    "        print (Et)\n",
    "        if(Et<0.1):break\n",
    "        j=j+1\n",
    "        \n",
    "    return (x)\n",
    "    \n",
    "print ('Raiz por newton ',newton())\n",
    "    \n"
   ]
  },
  {
   "cell_type": "code",
   "execution_count": null,
   "metadata": {
    "collapsed": false
   },
   "outputs": [],
   "source": []
  },
  {
   "cell_type": "code",
   "execution_count": null,
   "metadata": {
    "collapsed": false
   },
   "outputs": [],
   "source": []
  },
  {
   "cell_type": "code",
   "execution_count": null,
   "metadata": {
    "collapsed": true
   },
   "outputs": [],
   "source": []
  }
 ],
 "metadata": {
  "kernelspec": {
   "display_name": "Python 3",
   "language": "python",
   "name": "python3"
  },
  "language_info": {
   "codemirror_mode": {
    "name": "ipython",
    "version": 3
   },
   "file_extension": ".py",
   "mimetype": "text/x-python",
   "name": "python",
   "nbconvert_exporter": "python",
   "pygments_lexer": "ipython3",
   "version": "3.5.1"
  }
 },
 "nbformat": 4,
 "nbformat_minor": 0
}
