{
 "cells": [
  {
   "cell_type": "code",
   "execution_count": 4,
   "metadata": {
    "collapsed": false
   },
   "outputs": [
    {
     "name": "stdout",
     "output_type": "stream",
     "text": [
      "227.45566947338074\n",
      "170.69668676466142\n",
      "168.88237466370182\n",
      "168.88051705090078\n",
      "168.8805170489534\n",
      "168.8805170489534\n",
      "168.8805170489534\n",
      "168.8805170489534\n",
      "168.8805170489534\n",
      "168.8805170489534\n",
      "Raiz por newton  1.5249378105604452\n"
     ]
    }
   ],
   "source": [
    "import math\n",
    "\n",
    "Vv=0.56714329\n",
    "\n",
    "\n",
    "def abc(c):\n",
    "    vta=(c**2)+(7*c)-13\n",
    "    return (vta)\n",
    "\n",
    "def abc2(c):\n",
    "    vta=(2*c)+7\n",
    "    return (vta)\n",
    "\n",
    "def newton():\n",
    "    j=0\n",
    "    x=0\n",
    "    while (j<10) :\n",
    "        \n",
    "        x=x-((abc(x))/(abc2(x)))        \n",
    "        Et=math.fabs(100*((Vv-x)/Vv))\n",
    "        print (Et)\n",
    "        if(Et<0.1):break\n",
    "        j=j+1\n",
    "        \n",
    "    return (x)\n",
    "    \n",
    "print ('Raiz por newton ',newton())\n",
    "    \n"
   ]
  },
  {
   "cell_type": "code",
   "execution_count": null,
   "metadata": {
    "collapsed": false
   },
   "outputs": [],
   "source": []
  },
  {
   "cell_type": "code",
   "execution_count": null,
   "metadata": {
    "collapsed": false
   },
   "outputs": [],
   "source": []
  },
  {
   "cell_type": "code",
   "execution_count": null,
   "metadata": {
    "collapsed": true
   },
   "outputs": [],
   "source": []
  }
 ],
 "metadata": {
  "kernelspec": {
   "display_name": "Python 3",
   "language": "python",
   "name": "python3"
  },
  "language_info": {
   "codemirror_mode": {
    "name": "ipython",
    "version": 3
   },
   "file_extension": ".py",
   "mimetype": "text/x-python",
   "name": "python",
   "nbconvert_exporter": "python",
   "pygments_lexer": "ipython3",
   "version": "3.5.1"
  }
 },
 "nbformat": 4,
 "nbformat_minor": 0
}
