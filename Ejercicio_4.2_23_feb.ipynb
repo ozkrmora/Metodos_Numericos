{
 "cells": [
  {
   "cell_type": "code",
   "execution_count": 14,
   "metadata": {
    "collapsed": false
   },
   "outputs": [
    {
     "name": "stdout",
     "output_type": "stream",
     "text": [
      "h          | Verdadero       | Aprox Primer Orden   | R                   \n",
      "         1 | 16.000000       |                    5 | R                   \n",
      "       0.5 | 5.062500        |                  3.0 | R                   \n",
      "      0.25 | 2.441406        |                  2.0 | R                   \n",
      "     0.125 | 1.601807        |                  1.5 | R                   \n",
      "    0.0625 | 1.274429        |                 1.25 | R                   \n",
      "   0.03125 | 1.130982        |                1.125 | R                   \n",
      "  0.015625 | 1.063980        |               1.0625 | R                   \n"
     ]
    }
   ],
   "source": [
    "import math\n",
    "\n",
    "h=1\n",
    "x=1\n",
    "m=4\n",
    "\n",
    "fx=x**(m)\n",
    "\n",
    "def serieT_O_1(h):    \n",
    "    resp = fx+(m*(x**(m-1)*h))    \n",
    "    return resp\n",
    "\n",
    "print ('{0:10} | {1:15} | {2:20} | {3:20}'.format('h','Verdadero','Aprox Primer Orden','R')) \n",
    "\n",
    "for f in range (7):\n",
    "    print ('{0:10} | {1:15} | {2:20} | {3:20}'.format(h,\"%.6f\" %(x+h)**(m),serieT_O_1(h),'R')) \n",
    "    h=h/2\n",
    "\n"
   ]
  },
  {
   "cell_type": "code",
   "execution_count": null,
   "metadata": {
    "collapsed": true
   },
   "outputs": [],
   "source": []
  },
  {
   "cell_type": "code",
   "execution_count": null,
   "metadata": {
    "collapsed": true
   },
   "outputs": [],
   "source": []
  }
 ],
 "metadata": {
  "kernelspec": {
   "display_name": "Python 3",
   "language": "python",
   "name": "python3"
  },
  "language_info": {
   "codemirror_mode": {
    "name": "ipython",
    "version": 3
   },
   "file_extension": ".py",
   "mimetype": "text/x-python",
   "name": "python",
   "nbconvert_exporter": "python",
   "pygments_lexer": "ipython3",
   "version": "3.5.1"
  }
 },
 "nbformat": 4,
 "nbformat_minor": 0
}
