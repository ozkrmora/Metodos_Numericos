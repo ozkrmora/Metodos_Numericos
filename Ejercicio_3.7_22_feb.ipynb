{
 "cells": [
  {
   "cell_type": "code",
   "execution_count": 44,
   "metadata": {
    "collapsed": false
   },
   "outputs": [
    {
     "name": "stdout",
     "output_type": "stream",
     "text": [
      "Valor verdadero      | inciso a   | inciso b    | Et a                 | Et b                \n",
      "  0.7430530000000001 |      0.743 |      0.743  | 0.007132734811569918 | 1.3447233537347146e-13\n"
     ]
    }
   ],
   "source": [
    "import math\n",
    "\n",
    "x=1.37\n",
    "\n",
    "resp=((x**(3))-(7*(x**(2)))+(8*x)+0.35)\n",
    "\n",
    "ax3=x**(3)\n",
    "ax2=7*(x**(2))\n",
    "ax1=8*x\n",
    "\n",
    "at=round(ax3,3)-round(ax2,3)+round(ax1,3)+0.35\n",
    "\n",
    "b = ((x-7)*x + 8)*x + 0.35\n",
    "\n",
    "Eta=math.fabs(((at-resp)/resp)*100)\n",
    "Etb=math.fabs(((b-resp)/resp)*100)\n",
    "\n",
    "print ('{0:20} | {1:10} | {2:10}  | {3:20} | {4:20}'.format('Valor verdadero','inciso a','inciso b','Et a','Et b'))\n",
    "print ('{0:20} | {1:10} | {2:10}  | {3:20} | {4:20}'.format(resp,round(at,3),round(b,3),Eta,Etb))\n",
    "\n",
    "\n",
    "\n"
   ]
  },
  {
   "cell_type": "code",
   "execution_count": null,
   "metadata": {
    "collapsed": true
   },
   "outputs": [],
   "source": []
  },
  {
   "cell_type": "code",
   "execution_count": null,
   "metadata": {
    "collapsed": true
   },
   "outputs": [],
   "source": []
  },
  {
   "cell_type": "code",
   "execution_count": null,
   "metadata": {
    "collapsed": true
   },
   "outputs": [],
   "source": []
  },
  {
   "cell_type": "code",
   "execution_count": null,
   "metadata": {
    "collapsed": true
   },
   "outputs": [],
   "source": []
  },
  {
   "cell_type": "code",
   "execution_count": null,
   "metadata": {
    "collapsed": true
   },
   "outputs": [],
   "source": []
  }
 ],
 "metadata": {
  "kernelspec": {
   "display_name": "Python 3",
   "language": "python",
   "name": "python3"
  },
  "language_info": {
   "codemirror_mode": {
    "name": "ipython",
    "version": 3
   },
   "file_extension": ".py",
   "mimetype": "text/x-python",
   "name": "python",
   "nbconvert_exporter": "python",
   "pygments_lexer": "ipython3",
   "version": "3.5.1"
  }
 },
 "nbformat": 4,
 "nbformat_minor": 0
}
