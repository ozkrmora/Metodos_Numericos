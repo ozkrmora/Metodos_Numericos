{
 "cells": [
  {
   "cell_type": "code",
   "execution_count": 1,
   "metadata": {
    "collapsed": false
   },
   "outputs": [
    {
     "name": "stdout",
     "output_type": "stream",
     "text": [
      "Cuadratica x1=  6.405124837953327     x2= -1.405124837953327\n",
      "Et=  17.093736496110605  Ea=  100.0\n",
      "Et=  2.421886253241164  Ea=  20.0\n",
      "Et=  7.33592512143472  Ea=  9.090909090909092\n",
      "biseccion:  6.875\n"
     ]
    }
   ],
   "source": [
    "import math\n",
    "import matplotlib.pyplot as plt\n",
    "\n",
    "Vv=6.405124837953327\n",
    "\n",
    "Et=[]\n",
    "Ea=[]\n",
    "\n",
    "a,b,c=-0.5,2.5,4.5\n",
    "\n",
    "x=[]\n",
    "y=[]\n",
    "\n",
    "def abc(x):\n",
    "    vta=((a*(x**2))+(b*x)+c)\n",
    "    return (vta)\n",
    "\n",
    "def test(a,b):\n",
    "    o=abc(a)*abc(b)    \n",
    "    if o<0:\n",
    "        return (1)\n",
    "    if o>0:\n",
    "        return (2)    \n",
    "        \n",
    "def biseccion():\n",
    "    t=0\n",
    "    xl=5\n",
    "    xu=10\n",
    "    xr=0.0\n",
    "    Va=0\n",
    "    j=0\n",
    "    while (j<3):            \n",
    "        xr=(xl+xu)/2\n",
    "        h=test(xl,xu)\n",
    "        if h==1:            \n",
    "            h2=test(xl,xr)\n",
    "            if h2<2:\n",
    "                xu=xr\n",
    "            else:\n",
    "                xl=xr    \n",
    "        \n",
    "        Et.append(math.fabs(100*((Vv-xr)/Vv)))#Error relativo porcentual verdadero\n",
    "        Ea.append(math.fabs(100*((xr-Va)/xr)))#Error relativo porcentual aproximado\n",
    "        \n",
    "        print ('Et= ',Et[j],' Ea= ',Ea[j])\n",
    "        \n",
    "        j=j+1\n",
    "        Va=xr\n",
    "        \n",
    "    return (xr)\n",
    "\n",
    "def Cuadratica():\n",
    "    c1=(-b-(((b**2)-(4*a*c))**(0.5)))/(2*a)\n",
    "    c2=(-b+(((b**2)-(4*a*c))**(0.5)))/(2*a)\n",
    "    print ('Cuadratica x1= ',c1,'    x2=',c2)\n",
    "\n",
    "for i in range (0,10):\n",
    "    y.append(abc(i))\n",
    "    x.append(i)\n",
    "    \n",
    "Cuadratica()\n",
    "print ('biseccion: ',biseccion())\n",
    "\n",
    "\n",
    "plt.plot(x,y,'b--',)\n",
    "plt.grid(True)\n",
    "\n",
    "plt.xlabel('Iteraciones')\n",
    "plt.ylabel('f(i)')\n",
    "\n",
    "plt.axis([0,8,-1,8])\n",
    "plt.show() "
   ]
  },
  {
   "cell_type": "code",
   "execution_count": null,
   "metadata": {
    "collapsed": false
   },
   "outputs": [],
   "source": []
  },
  {
   "cell_type": "code",
   "execution_count": null,
   "metadata": {
    "collapsed": false
   },
   "outputs": [],
   "source": []
  },
  {
   "cell_type": "code",
   "execution_count": null,
   "metadata": {
    "collapsed": true
   },
   "outputs": [],
   "source": []
  }
 ],
 "metadata": {
  "kernelspec": {
   "display_name": "Python 3",
   "language": "python",
   "name": "python3"
  },
  "language_info": {
   "codemirror_mode": {
    "name": "ipython",
    "version": 3
   },
   "file_extension": ".py",
   "mimetype": "text/x-python",
   "name": "python",
   "nbconvert_exporter": "python",
   "pygments_lexer": "ipython3",
   "version": "3.5.1"
  }
 },
 "nbformat": 4,
 "nbformat_minor": 0
}
