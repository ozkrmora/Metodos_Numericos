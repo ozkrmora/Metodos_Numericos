{
 "cells": [
  {
   "cell_type": "code",
   "execution_count": 4,
   "metadata": {
    "collapsed": false
   },
   "outputs": [
    {
     "name": "stdout",
     "output_type": "stream",
     "text": [
      "tiempo  | V [t]        | V [t] aprox  | Eb           | Et           | Ea           | Es          \n",
      "        |              |              |              |              |              |             \n",
      "      0 | 0.000        | 19.600       | 19.600       | 100.000      | 100.000      | 0.050        \n",
      "      2 | 16.405       | 29.983       | 13.578       | 45.285       | 34.629       | 0.050        \n",
      "      4 | 27.769       | 37.175       | 9.406        | 25.301       | 19.347       | 0.050        \n",
      "      6 | 35.642       | 42.157       | 6.516        | 15.456       | 11.819       | 0.050        \n",
      "      8 | 41.095       | 45.609       | 4.514        | 9.896        | 7.568        | 0.050        \n",
      "     10 | 44.873       | 48.000       | 3.127        | 6.514        | 4.981        | 0.050        \n",
      "     12 | 47.490       | 49.656       | 2.166        | 4.362        | 3.336        | 0.050        \n",
      "     14 | 49.303       | 50.804       | 1.500        | 2.953        | 2.258        | 0.050        \n",
      "     16 | 50.559       | 51.598       | 1.039        | 2.014        | 1.540        | 0.050        \n",
      "     18 | 51.429       | 52.149       | 0.720        | 1.381        | 1.056        | 0.050        \n",
      "     20 | 52.032       | 52.530       | 0.499        | 0.950        | 0.726        | 0.050        \n",
      "     22 | 52.449       | 52.795       | 0.346        | 0.654        | 0.500        | 0.050        \n",
      "     24 | 52.738       | 52.978       | 0.239        | 0.452        | 0.346        | 0.050        \n",
      "     26 | 52.939       | 53.105       | 0.166        | 0.312        | 0.239        | 0.050        \n",
      "     28 | 53.077       | 53.192       | 0.115        | 0.216        | 0.165        | 0.050        \n",
      "     30 | 53.174       | 53.253       | 0.080        | 0.149        | 0.114        | 0.050        \n",
      "     32 | 53.240       | 53.295       | 0.055        | 0.103        | 0.079        | 0.050        \n",
      "     34 | 53.286       | 53.325       | 0.038        | 0.072        | 0.055        | 0.050        \n"
     ]
    }
   ],
   "source": [
    "import math\n",
    "import matplotlib.pyplot as plt\n",
    "\n",
    "g = 9.8\n",
    "m = 68.1\n",
    "c =12.5\n",
    "Vaa=0\n",
    "\n",
    "y=[] \n",
    "x=[]\n",
    "\n",
    "Vb=[]\n",
    "Va=[]\n",
    "\n",
    "Eb=[]\n",
    "Et=[]\n",
    "Ea=[]\n",
    "Es=[]\n",
    "\n",
    "it = 2;\n",
    "\n",
    "def abc(g,m,c,i):\n",
    " vta=(((g*m)/c)*(1-math.exp(-(c/m)*i))) \n",
    " return (vta)\n",
    "\n",
    "def abc2(g,m,c,i,it):\n",
    "    Vb.append(abc(g,m,c,i*it))\n",
    "    Va.append((Vb[i]+(g-((c/m)*Vb[i]))*((i*it)+it-(i*it))))\n",
    "    \n",
    "    Eb.append(math.fabs(Vb[i]-Va[i]))\n",
    "    Et.append(math.fabs((Eb[i]/Va[i])*100))\n",
    "    Ea.append(math.fabs(((Va[i]-Vaa)/Va[i])*100))  \n",
    "    \n",
    "    Es.append(0.5*(10**(2-3)))\n",
    "    \n",
    "    return Va[i]\n",
    "\n",
    "print ('{0:7} | {1:12} | {2:12} | {3:12} | {4:12} | {5:12} | {6:12}'.format('tiempo','V [t]','V [t] aprox ','Eb','Et','Ea','Es'))   \n",
    "print ('{0:7} | {1:12} | {2:12} | {3:12} | {4:12} | {5:12} | {6:12}'.format('','','','','','',''))   \n",
    "\n",
    "\n",
    "for i in range(0,30):\n",
    "    Vaa=abc2(g,m,c,i,it)\n",
    "    y.append(Es[i])\n",
    "    x.append(i*it)    \n",
    "    if Ea[i]<=Es[i]: break\n",
    "    print ('{0:7} | {1:12} | {2:12} | {3:12} | {4:12} | {5:12} | {6:12} '.format(i*it,\"%.3f\" % Vb[i],\"%.3f\" % Va[i],\"%.3f\" % Eb[i],\"%.3f\" % Et[i],\"%.3f\" % Ea[i],\"%.3f\" % Es[i]))    \n",
    "\n",
    "\n",
    "                             \n",
    "plt.plot(x,y,'k')\n",
    "plt.xlabel('Tiempo s')\n",
    "plt.ylabel('Error Tolerado')\n",
    "plt.axis([0,60,0,60])\n",
    "plt.show()    \n",
    "\n",
    "    "
   ]
  },
  {
   "cell_type": "code",
   "execution_count": null,
   "metadata": {
    "collapsed": true
   },
   "outputs": [],
   "source": []
  },
  {
   "cell_type": "code",
   "execution_count": null,
   "metadata": {
    "collapsed": true
   },
   "outputs": [],
   "source": []
  },
  {
   "cell_type": "code",
   "execution_count": null,
   "metadata": {
    "collapsed": true
   },
   "outputs": [],
   "source": []
  },
  {
   "cell_type": "code",
   "execution_count": null,
   "metadata": {
    "collapsed": true
   },
   "outputs": [],
   "source": []
  }
 ],
 "metadata": {
  "kernelspec": {
   "display_name": "Python 3",
   "language": "python",
   "name": "python3"
  },
  "language_info": {
   "codemirror_mode": {
    "name": "ipython",
    "version": 3
   },
   "file_extension": ".py",
   "mimetype": "text/x-python",
   "name": "python",
   "nbconvert_exporter": "python",
   "pygments_lexer": "ipython3",
   "version": "3.5.1"
  }
 },
 "nbformat": 4,
 "nbformat_minor": 0
}
